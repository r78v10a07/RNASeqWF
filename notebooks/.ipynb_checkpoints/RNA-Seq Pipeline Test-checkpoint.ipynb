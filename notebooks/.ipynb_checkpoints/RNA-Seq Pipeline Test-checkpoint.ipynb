{
 "cells": [
  {
   "cell_type": "code",
   "execution_count": 1,
   "metadata": {},
   "outputs": [],
   "source": [
    "# Set the environment variables to be used during the project \n",
    "\n",
    "import os\n",
    "import json\n",
    "import pandas\n",
    "import math\n",
    "import time\n",
    "import pickle\n",
    "import tabulate\n",
    "import numpy as np\n",
    "import scipy.stats as stats\n",
    "\n",
    "from pprint import pprint\n",
    "from IPython.display import HTML, display\n",
    "from operator import itemgetter\n",
    "\n",
    "from collections import namedtuple\n",
    "\n",
    "import matplotlib\n",
    "import matplotlib.pyplot as plt\n",
    "from matplotlib import gridspec\n",
    "\n",
    "from six.moves import cPickle as pickle\n",
    "from pandas import read_csv\n",
    "\n",
    "###############################################################\n",
    "#\n",
    "#    Update this path\n",
    "#\n",
    "###############################################################\n",
    "os.environ['WORKDIR'] = os.path.abspath('/gfs/projects/rna-seq/')\n",
    "###############################################################\n",
    "\n",
    "os.environ['CONFIG'] = os.environ['WORKDIR'] + '/config'\n",
    "os.environ['DATA'] = os.environ['WORKDIR'] + '/data'\n",
    "os.environ['BIN'] = os.environ['WORKDIR'] + '/bin'\n",
    "os.environ['RESULTS'] = os.environ['WORKDIR'] + '/results'\n",
    "os.environ['SRC'] = os.environ['WORKDIR'] + '/src'"
   ]
  },
  {
   "cell_type": "code",
   "execution_count": 4,
   "metadata": {},
   "outputs": [
    {
     "name": "stdout",
     "output_type": "stream",
     "text": [
      "0.perseo.ddns.net\n"
     ]
    }
   ],
   "source": [
    "%%bash\n",
    "cd $RESULTS/STAR_hg19\n",
    "qsub -N hg19_zcat -j oe -l nodes=1:ppn=16 -o $RESULTS/STAR_hg19/hg19_zcat.out -F \"-d $DATA/TCGA-BRCA/641a082e-5ca1-48f1-80e2-f7aab53611f0 -i 110930_UNC12-SN629_0146_BB01KPABXX.7 -g /gfs/data/genomes/igenomes/Homo_sapiens/UCSC/hg19/STAR -o $RESULTS/STAR_hg19 -t 16\" $BIN/start.sh"
   ]
  },
  {
   "cell_type": "code",
   "execution_count": 5,
   "metadata": {},
   "outputs": [
    {
     "name": "stdout",
     "output_type": "stream",
     "text": [
      "1.perseo.ddns.net\n"
     ]
    }
   ],
   "source": [
    "%%bash\n",
    "cd /gfs/data/genomes/igenomes/Homo_sapiens/UCSC/hg38/STAR\n",
    "qsub -N hg38_index -j oe -l nodes=1:ppn=16 -o /gfs/data/genomes/igenomes/Homo_sapiens/UCSC/hg38/STAR/hg38_index.out ./index.sh"
   ]
  },
  {
   "cell_type": "code",
   "execution_count": 6,
   "metadata": {},
   "outputs": [
    {
     "name": "stdout",
     "output_type": "stream",
     "text": [
      "2.perseo.ddns.net\n"
     ]
    }
   ],
   "source": [
    "%%bash\n",
    "cd $RESULTS/STAR_hg38\n",
    "qsub -N hg38_zcat -j oe -l nodes=1:ppn=16 -o $RESULTS/STAR_hg38/hg38_zcat.out -F \"-d $DATA/TCGA-BRCA/641a082e-5ca1-48f1-80e2-f7aab53611f0 -i 110930_UNC12-SN629_0146_BB01KPABXX.7 -g /gfs/data/genomes/igenomes/Homo_sapiens/UCSC/hg38/STAR -o $RESULTS/STAR_hg38 -t 16\" $BIN/start.sh"
   ]
  },
  {
   "cell_type": "code",
   "execution_count": null,
   "metadata": {},
   "outputs": [],
   "source": []
  }
 ],
 "metadata": {
  "kernelspec": {
   "display_name": "Python 3",
   "language": "python",
   "name": "python3"
  },
  "language_info": {
   "codemirror_mode": {
    "name": "ipython",
    "version": 3
   },
   "file_extension": ".py",
   "mimetype": "text/x-python",
   "name": "python",
   "nbconvert_exporter": "python",
   "pygments_lexer": "ipython3",
   "version": "3.4.6"
  }
 },
 "nbformat": 4,
 "nbformat_minor": 2
}
