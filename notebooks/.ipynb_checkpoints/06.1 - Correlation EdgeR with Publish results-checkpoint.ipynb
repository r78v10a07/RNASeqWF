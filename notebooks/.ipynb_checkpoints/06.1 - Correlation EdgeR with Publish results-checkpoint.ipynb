{
 "cells": [
  {
   "cell_type": "code",
   "execution_count": 1,
   "metadata": {},
   "outputs": [],
   "source": [
    "%run ../config/init.py"
   ]
  },
  {
   "cell_type": "code",
   "execution_count": 2,
   "metadata": {},
   "outputs": [],
   "source": [
    "xls_file = os.path.join(os.environ['DATA'], os.environ['DATASET'], '12859_2016_1457_MOESM2_ESM.xlsx')\n",
    "xls_df = pandas.read_excel(xls_file, sheet_name=None, header=None);\n",
    "for k in xls_df:\n",
    "    if not k.startswith('int-'):\n",
    "        xls_df[k].columns = xls_df[k].iloc[0]\n",
    "        xls_df[k] = xls_df[k].reindex(xls_df[k].index.drop(0))"
   ]
  },
  {
   "cell_type": "code",
   "execution_count": 3,
   "metadata": {},
   "outputs": [
    {
     "data": {
      "text/html": [
       "<div>\n",
       "<style scoped>\n",
       "    .dataframe tbody tr th:only-of-type {\n",
       "        vertical-align: middle;\n",
       "    }\n",
       "\n",
       "    .dataframe tbody tr th {\n",
       "        vertical-align: top;\n",
       "    }\n",
       "\n",
       "    .dataframe thead th {\n",
       "        text-align: right;\n",
       "    }\n",
       "</style>\n",
       "<table border=\"1\" class=\"dataframe\">\n",
       "  <thead>\n",
       "    <tr style=\"text-align: right;\">\n",
       "      <th></th>\n",
       "      <th>Gene_Id</th>\n",
       "      <th>gene_name</th>\n",
       "    </tr>\n",
       "  </thead>\n",
       "  <tbody>\n",
       "    <tr>\n",
       "      <th>0</th>\n",
       "      <td>ENSG00000223972.4</td>\n",
       "      <td>DDX11L1</td>\n",
       "    </tr>\n",
       "    <tr>\n",
       "      <th>1</th>\n",
       "      <td>ENSG00000227232.4</td>\n",
       "      <td>WASH7P</td>\n",
       "    </tr>\n",
       "    <tr>\n",
       "      <th>2</th>\n",
       "      <td>ENSG00000243485.2</td>\n",
       "      <td>MIR1302-11</td>\n",
       "    </tr>\n",
       "    <tr>\n",
       "      <th>3</th>\n",
       "      <td>ENSG00000237613.2</td>\n",
       "      <td>FAM138A</td>\n",
       "    </tr>\n",
       "    <tr>\n",
       "      <th>4</th>\n",
       "      <td>ENSG00000268020.2</td>\n",
       "      <td>OR4G4P</td>\n",
       "    </tr>\n",
       "  </tbody>\n",
       "</table>\n",
       "</div>"
      ],
      "text/plain": [
       "             Gene_Id   gene_name\n",
       "0  ENSG00000223972.4     DDX11L1\n",
       "1  ENSG00000227232.4      WASH7P\n",
       "2  ENSG00000243485.2  MIR1302-11\n",
       "3  ENSG00000237613.2     FAM138A\n",
       "4  ENSG00000268020.2      OR4G4P"
      ]
     },
     "execution_count": 3,
     "metadata": {},
     "output_type": "execute_result"
    }
   ],
   "source": [
    "gene_gtf_file = \"/gfs/data/genomes/Gencode/Gencode_human/GRCh37/release_19/gencode.v19.annotation_genes.gtf\"\n",
    "gene_gtf = pandas.read_csv(gene_gtf_file, sep='\\t',header=None)\n",
    "gene_gtf = gene_gtf[[9,10]]\n",
    "gene_gtf = gene_gtf.rename(index=str, columns={9:'Gene_Id', 10:'gene_name'})\n",
    "gene_gtf.head()"
   ]
  },
  {
   "cell_type": "code",
   "execution_count": 4,
   "metadata": {},
   "outputs": [],
   "source": [
    "result_dir = os.path.join(os.environ['RESULTS'], os.environ['DATASET'], 'differential_expression')\n",
    "os.chdir(result_dir)"
   ]
  },
  {
   "cell_type": "code",
   "execution_count": 5,
   "metadata": {},
   "outputs": [
    {
     "name": "stdout",
     "output_type": "stream",
     "text": [
      "DGA results: 1637\n"
     ]
    },
    {
     "data": {
      "text/html": [
       "<div>\n",
       "<style scoped>\n",
       "    .dataframe tbody tr th:only-of-type {\n",
       "        vertical-align: middle;\n",
       "    }\n",
       "\n",
       "    .dataframe tbody tr th {\n",
       "        vertical-align: top;\n",
       "    }\n",
       "\n",
       "    .dataframe thead th {\n",
       "        text-align: right;\n",
       "    }\n",
       "</style>\n",
       "<table border=\"1\" class=\"dataframe\">\n",
       "  <thead>\n",
       "    <tr style=\"text-align: right;\">\n",
       "      <th></th>\n",
       "      <th>Reference</th>\n",
       "      <th>Genes in Ref</th>\n",
       "      <th>Genes</th>\n",
       "      <th>Common</th>\n",
       "      <th>Recall</th>\n",
       "      <th>Precision</th>\n",
       "    </tr>\n",
       "  </thead>\n",
       "  <tbody>\n",
       "    <tr>\n",
       "      <th>0</th>\n",
       "      <td>SAM-Frank</td>\n",
       "      <td>5796</td>\n",
       "      <td>1637</td>\n",
       "      <td>910</td>\n",
       "      <td>0.158371</td>\n",
       "      <td>0.555895</td>\n",
       "    </tr>\n",
       "    <tr>\n",
       "      <th>1</th>\n",
       "      <td>SAM-Haniffa</td>\n",
       "      <td>1586</td>\n",
       "      <td>1637</td>\n",
       "      <td>346</td>\n",
       "      <td>0.225260</td>\n",
       "      <td>0.211362</td>\n",
       "    </tr>\n",
       "    <tr>\n",
       "      <th>2</th>\n",
       "      <td>SAM-Ingersoll</td>\n",
       "      <td>4795</td>\n",
       "      <td>1637</td>\n",
       "      <td>810</td>\n",
       "      <td>0.170706</td>\n",
       "      <td>0.494808</td>\n",
       "    </tr>\n",
       "    <tr>\n",
       "      <th>3</th>\n",
       "      <td>SAM-Wong</td>\n",
       "      <td>2929</td>\n",
       "      <td>1637</td>\n",
       "      <td>451</td>\n",
       "      <td>0.156652</td>\n",
       "      <td>0.275504</td>\n",
       "    </tr>\n",
       "    <tr>\n",
       "      <th>4</th>\n",
       "      <td>limma-Frank</td>\n",
       "      <td>3931</td>\n",
       "      <td>1637</td>\n",
       "      <td>818</td>\n",
       "      <td>0.210770</td>\n",
       "      <td>0.499695</td>\n",
       "    </tr>\n",
       "    <tr>\n",
       "      <th>5</th>\n",
       "      <td>limma-Haniffa</td>\n",
       "      <td>1920</td>\n",
       "      <td>1637</td>\n",
       "      <td>437</td>\n",
       "      <td>0.233690</td>\n",
       "      <td>0.266952</td>\n",
       "    </tr>\n",
       "    <tr>\n",
       "      <th>6</th>\n",
       "      <td>limma-Ingersoll</td>\n",
       "      <td>4202</td>\n",
       "      <td>1637</td>\n",
       "      <td>839</td>\n",
       "      <td>0.202071</td>\n",
       "      <td>0.512523</td>\n",
       "    </tr>\n",
       "    <tr>\n",
       "      <th>7</th>\n",
       "      <td>limma-Wong</td>\n",
       "      <td>3454</td>\n",
       "      <td>1637</td>\n",
       "      <td>600</td>\n",
       "      <td>0.176263</td>\n",
       "      <td>0.366524</td>\n",
       "    </tr>\n",
       "    <tr>\n",
       "      <th>8</th>\n",
       "      <td>int-Frank</td>\n",
       "      <td>2803</td>\n",
       "      <td>1637</td>\n",
       "      <td>515</td>\n",
       "      <td>0.187069</td>\n",
       "      <td>0.314600</td>\n",
       "    </tr>\n",
       "    <tr>\n",
       "      <th>9</th>\n",
       "      <td>int-Haniffa</td>\n",
       "      <td>1178</td>\n",
       "      <td>1637</td>\n",
       "      <td>296</td>\n",
       "      <td>0.262411</td>\n",
       "      <td>0.180819</td>\n",
       "    </tr>\n",
       "    <tr>\n",
       "      <th>10</th>\n",
       "      <td>int-Ingersoll</td>\n",
       "      <td>2776</td>\n",
       "      <td>1637</td>\n",
       "      <td>505</td>\n",
       "      <td>0.185253</td>\n",
       "      <td>0.308491</td>\n",
       "    </tr>\n",
       "    <tr>\n",
       "      <th>11</th>\n",
       "      <td>int-Wong</td>\n",
       "      <td>1998</td>\n",
       "      <td>1637</td>\n",
       "      <td>404</td>\n",
       "      <td>0.207392</td>\n",
       "      <td>0.246793</td>\n",
       "    </tr>\n",
       "  </tbody>\n",
       "</table>\n",
       "</div>"
      ],
      "text/plain": [
       "          Reference  Genes in Ref  Genes  Common    Recall  Precision\n",
       "0         SAM-Frank          5796   1637     910  0.158371   0.555895\n",
       "1       SAM-Haniffa          1586   1637     346  0.225260   0.211362\n",
       "2     SAM-Ingersoll          4795   1637     810  0.170706   0.494808\n",
       "3          SAM-Wong          2929   1637     451  0.156652   0.275504\n",
       "4       limma-Frank          3931   1637     818  0.210770   0.499695\n",
       "5     limma-Haniffa          1920   1637     437  0.233690   0.266952\n",
       "6   limma-Ingersoll          4202   1637     839  0.202071   0.512523\n",
       "7        limma-Wong          3454   1637     600  0.176263   0.366524\n",
       "8         int-Frank          2803   1637     515  0.187069   0.314600\n",
       "9       int-Haniffa          1178   1637     296  0.262411   0.180819\n",
       "10    int-Ingersoll          2776   1637     505  0.185253   0.308491\n",
       "11         int-Wong          1998   1637     404  0.207392   0.246793"
      ]
     },
     "metadata": {},
     "output_type": "display_data"
    },
    {
     "name": "stdout",
     "output_type": "stream",
     "text": [
      "No. Genes: 577.5833333333334Recall: 0.1979924303544903 Precision: 0.3528303807778457\n"
     ]
    }
   ],
   "source": [
    "dga_results = pandas.read_csv('edgeR.csv')\n",
    "dga_results = dga_results[abs(dga_results['logFC']) >= 2.0]\n",
    "dga_results = dga_results.merge(gene_gtf, on='Gene_Id', how='inner')\n",
    "dga_results = dga_results.sort_values(by='gene_name')\n",
    "print('DGA results: ' + str(len(dga_results)))\n",
    "a = []\n",
    "for k in xls_df:\n",
    "    if k.startswith('int-'):\n",
    "        c = len(xls_df[k].merge(dga_results, left_on=0, right_on='gene_name', how='inner'))   \n",
    "    else:\n",
    "        c = len(xls_df[k].merge(dga_results, left_on='Gene Name', right_on='gene_name', how='inner'))\n",
    "    r = c/(len(xls_df[k]) - 50)\n",
    "    p = c/len(dga_results)\n",
    "    a.append([k,len(xls_df[k]), len(dga_results), c, r, p])\n",
    "df = pandas.DataFrame(a, columns=['Reference', 'Genes in Ref', 'Genes', 'Common',  'Recall', 'Precision'])\n",
    "average = df.mean(axis=0)\n",
    "display(df)\n",
    "df.to_csv('edgeR_corr.csv', sep='\\t',index=None)\n",
    "print(\"No. Genes: \" + str(average['Common']) + \"Recall: \" + str(average['Recall']) + ' Precision: ' + str(average['Precision']))\n"
   ]
  },
  {
   "cell_type": "code",
   "execution_count": 6,
   "metadata": {},
   "outputs": [
    {
     "data": {
      "text/plain": [
       "<matplotlib.axes._subplots.AxesSubplot at 0x7ff461b994a8>"
      ]
     },
     "execution_count": 6,
     "metadata": {},
     "output_type": "execute_result"
    },
    {
     "data": {
      "image/png": "[encoded data removed]",
      "text/plain": [
       "<Figure size 432x288 with 1 Axes>"
      ]
     },
     "metadata": {},
     "output_type": "display_data"
    }
   ],
   "source": [
    "df[['Reference', 'Recall', 'Precision']].plot.box()"
   ]
  },
  {
   "cell_type": "code",
   "execution_count": 7,
   "metadata": {},
   "outputs": [
    {
     "data": {
      "image/png": "[encoded data removed]",
      "text/plain": [
       "<Figure size 432x288 with 1 Axes>"
      ]
     },
     "metadata": {},
     "output_type": "display_data"
    }
   ],
   "source": [
    "df[['Reference', 'Recall', 'Precision']].plot.bar().set_xticklabels(df['Reference'], rotation=60);"
   ]
  },
  {
   "cell_type": "code",
   "execution_count": null,
   "metadata": {},
   "outputs": [],
   "source": []
  }
 ],
 "metadata": {
  "kernelspec": {
   "display_name": "Python 3",
   "language": "python",
   "name": "python3"
  },
  "language_info": {
   "codemirror_mode": {
    "name": "ipython",
    "version": 3
   },
   "file_extension": ".py",
   "mimetype": "text/x-python",
   "name": "python",
   "nbconvert_exporter": "python",
   "pygments_lexer": "ipython3",
   "version": "3.6.5"
  }
 },
 "nbformat": 4,
 "nbformat_minor": 2
}
