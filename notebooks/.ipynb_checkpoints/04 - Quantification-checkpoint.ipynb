{
 "cells": [
  {
   "cell_type": "code",
   "execution_count": 1,
   "metadata": {},
   "outputs": [],
   "source": [
    "%run ../config/init.py"
   ]
  },
  {
   "cell_type": "markdown",
   "metadata": {},
   "source": [
    "### Genome GTF and STAR indexes"
   ]
  },
  {
   "cell_type": "code",
   "execution_count": 2,
   "metadata": {},
   "outputs": [],
   "source": [
    "os.environ['STAR_INDEX'] = '/gfs/data/genomes/Gencode/Gencode_human/GRCh37/release_19/STAR'\n",
    "os.environ['GTF'] = '/gfs/data/genomes/Gencode/Gencode_human/GRCh37/release_19/gencode.v19.annotation.gtf'\n",
    "os.environ['BED'] = '/gfs/data/genomes/Gencode/Gencode_human/GRCh37/release_19/gencode.v19.annotation.bed'"
   ]
  },
  {
   "cell_type": "markdown",
   "metadata": {},
   "source": [
    "### Loading samples from the trimmed folder"
   ]
  },
  {
   "cell_type": "code",
   "execution_count": 3,
   "metadata": {},
   "outputs": [],
   "source": [
    "data_dir = os.path.join(os.environ['RESULTS'], os.environ['DATASET'], 'trimmomatic')\n",
    "os.chdir(data_dir)\n",
    "files = [ f for ds,dr,fs in os.walk('./') for f in fs if f.endswith('.fastq.gz')]"
   ]
  },
  {
   "cell_type": "markdown",
   "metadata": {},
   "source": [
    "### Creating folder named: quantification"
   ]
  },
  {
   "cell_type": "code",
   "execution_count": 4,
   "metadata": {},
   "outputs": [],
   "source": [
    "result_dir = os.path.join(os.environ['RESULTS'], os.environ['DATASET'], 'quantification')\n",
    "if not os.path.exists(result_dir):\n",
    "    os.mkdir(result_dir)\n",
    "os.chdir(result_dir)\n",
    "os.environ['w'] = result_dir"
   ]
  },
  {
   "cell_type": "markdown",
   "metadata": {},
   "source": [
    "### Executing quantification workflow"
   ]
  },
  {
   "cell_type": "code",
   "execution_count": null,
   "metadata": {},
   "outputs": [],
   "source": [
    "%%time\n",
    "errors = {}\n",
    "!rm -f commands\n",
    "for f in files:\n",
    "    os.environ['f'] = os.path.join(data_dir, f)\n",
    "    if not os.path.exists(os.path.basename(f).replace('.fastq.gz','_sorted.bam')):\n",
    "        !echo \"cwl-runner --tmp-outdir-prefix=$TMP/ --tmpdir-prefix=$TMP/ $CWLWORKFLOWS/RNA-Seq/rnaseq-quatification-SE.cwl --threads 16 --reads_1 $f --genomeDir $STAR_INDEX --gtf $GTF -q=255 -r $BED\" >> commands\n",
    "errors = !cat commands | parallel -j 1    \n",
    "corrects = 0\n",
    "for e in errors:\n",
    "    if 'Final process status is success' == e:\n",
    "        corrects += 1\n",
    "if corrects == len(files):\n",
    "    print('Run completed')\n",
    "else:\n",
    "    print('There are errors. Please check.')        "
   ]
  },
  {
   "cell_type": "markdown",
   "metadata": {},
   "source": [
    "### Creates TPM and reads matrices for genes"
   ]
  },
  {
   "cell_type": "code",
   "execution_count": null,
   "metadata": {},
   "outputs": [],
   "source": [
    "columns = ['ExonTPM', 'ExonReads']\n",
    "output_suffix = \"_tr_sorted_genes.out\"\n",
    "files = [ f for ds, df, files in os.walk('./') for f in files if output_suffix in f]\n",
    "for column in columns:\n",
    "    print(column)\n",
    "    data = pandas.DataFrame()\n",
    "    i = 1\n",
    "    for f in files:\n",
    "        # Get sample name removing the suffix and check if the output is compressed\n",
    "        if f.endswith('.gz'):\n",
    "            output_suffix_real = output_suffix + '.gz'\n",
    "        else:\n",
    "            output_suffix_real = output_suffix\n",
    "        s = f.replace(output_suffix_real, '')\n",
    "        df = pandas.read_csv(f, sep='\\t')\n",
    "        df = df[['Gene_Id', 'Chr', 'Start', 'End', 'ExonLength', column]]\n",
    "        df = df.rename(index=str, columns={column: s})\n",
    "        if data.empty:\n",
    "            data = df\n",
    "        else:\n",
    "            data = data.merge(df, on=['Gene_Id', 'Chr', 'Start', 'End', 'ExonLength'], how='outer')\n",
    "        i += 1\n",
    "    print('Data columns: ' + str(len(data.columns)))\n",
    "    print('Data rows: ' + str(len(data)))\n",
    "    data.to_csv(column + '.tsv', sep='\\t', index=False, na_rep='0')"
   ]
  },
  {
   "cell_type": "markdown",
   "metadata": {},
   "source": [
    "### Creates TPM and reads matrices for transcripts"
   ]
  },
  {
   "cell_type": "code",
   "execution_count": null,
   "metadata": {},
   "outputs": [],
   "source": [
    "columns = ['ExonTPM', 'ExonReads']\n",
    "output_suffix = \"_tr_sorted_transcripts.out\"\n",
    "files = [ f for ds, df, files in os.walk('./') for f in files if output_suffix in f]\n",
    "for column in columns:\n",
    "    print(column)\n",
    "    data = pandas.DataFrame()\n",
    "    i = 1\n",
    "    for f in files:\n",
    "        # Get sample name removing the suffix and check if the output is compressed\n",
    "        if f.endswith('.gz'):\n",
    "            output_suffix_real = output_suffix + '.gz'\n",
    "        else:\n",
    "            output_suffix_real = output_suffix\n",
    "        s = f.replace(output_suffix_real, '')\n",
    "        df = pandas.read_csv(f, sep='\\t')\n",
    "        df = df[['Gene_Id', 'Transcript_Id', 'Chr', 'Start', 'End', 'ExonLength', column]]\n",
    "        df = df.rename(index=str, columns={column: s})\n",
    "        if data.empty:\n",
    "            data = df\n",
    "        else:\n",
    "            data = data.merge(df, on=['Gene_Id', 'Transcript_Id', 'Chr', 'Start', 'End', 'ExonLength'], how='outer')\n",
    "        i += 1\n",
    "    print('Data columns: ' + str(len(data.columns)))\n",
    "    print('Data rows: ' + str(len(data)))\n",
    "    data.to_csv(column + '_transcripts.tsv', sep='\\t', index=False, na_rep='0')"
   ]
  },
  {
   "cell_type": "markdown",
   "metadata": {},
   "source": [
    "## Transforming Ensembl IDs to gene names"
   ]
  },
  {
   "cell_type": "code",
   "execution_count": null,
   "metadata": {},
   "outputs": [],
   "source": [
    "gtf = pandas.read_csv(os.environ['GTF'], sep='\\t', header=None, comment='#')\n",
    "a = []\n",
    "gene_gtf = gtf[gtf[2] == 'gene']\n",
    "for i, r in gene_gtf.iterrows():\n",
    "    in_a = r.tolist()\n",
    "    fs = re.findall(r\"[-\\w\\./']+\", r[8])\n",
    "    df = {'gene_id': '', 'gene_name': ''}\n",
    "    for c in range(0, len(fs), 2):\n",
    "        if fs[c] in df:\n",
    "            df[fs[c]] = fs[c + 1]\n",
    "    in_a.append(df['gene_id'])\n",
    "    in_a.append(df['gene_name'])\n",
    "    a.append(in_a)\n",
    "gene_gtf = pandas.DataFrame(a, columns=['chr', 'source', 'feature', 'start', 'end', 'score', 'strand', 'frame',\n",
    "                                   'attribute', 'gene_id', 'gene_name'])\n",
    "gene_gtf = gene_gtf.reset_index(drop=True)\n",
    "gene_gtf.to_csv(os.environ['GTF'].replace('.gtf', '_genes.gtf'), sep='\\t', index=False, header=None)"
   ]
  }
 ],
 "metadata": {
  "kernelspec": {
   "display_name": "Python 3",
   "language": "python",
   "name": "python3"
  },
  "language_info": {
   "codemirror_mode": {
    "name": "ipython",
    "version": 3
   },
   "file_extension": ".py",
   "mimetype": "text/x-python",
   "name": "python",
   "nbconvert_exporter": "python",
   "pygments_lexer": "ipython3",
   "version": "3.6.5"
  }
 },
 "nbformat": 4,
 "nbformat_minor": 2
}
