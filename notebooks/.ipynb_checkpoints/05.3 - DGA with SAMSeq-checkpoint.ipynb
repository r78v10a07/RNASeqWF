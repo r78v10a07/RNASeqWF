{
 "cells": [
  {
   "cell_type": "code",
   "execution_count": 1,
   "metadata": {},
   "outputs": [],
   "source": [
    "library(\"data.table\")\n",
    "library(samr)\n",
    "library(plyr)"
   ]
  },
  {
   "cell_type": "code",
   "execution_count": 2,
   "metadata": {},
   "outputs": [],
   "source": [
    "setwd(\"/home/veraalva/projects/rna-seq/results/PRJNA339968/differential_expression\")"
   ]
  },
  {
   "cell_type": "code",
   "execution_count": 3,
   "metadata": {
    "scrolled": false
   },
   "outputs": [
    {
     "data": {
      "text/html": [
       "<table>\n",
       "<thead><tr><th scope=col>BioSample</th><th scope=col>Experiment</th><th scope=col>Library_Name</th><th scope=col>LoadDate</th><th scope=col>MBases</th><th scope=col>MBytes</th><th scope=col>Run</th><th scope=col>SRA_Sample</th><th scope=col>Sample_Name</th><th scope=col>isolate</th><th scope=col>...</th><th scope=col>LibrarySelection</th><th scope=col>LibrarySource</th><th scope=col>Organism</th><th scope=col>Platform</th><th scope=col>ReleaseDate</th><th scope=col>SRA_Study</th><th scope=col>age</th><th scope=col>biomaterial_provider</th><th scope=col>sex</th><th scope=col>tissue</th></tr></thead>\n",
       "<tbody>\n",
       "\t<tr><td>SAMN05616144           </td><td>SRX2043366             </td><td>classical01            </td><td>2016-08-24             </td><td> 641                   </td><td> 491                   </td><td>SRR4053795             </td><td>SRS1636082             </td><td>classical01            </td><td>classical01            </td><td>...                    </td><td>RT-PCR                 </td><td>TRANSCRIPTOMIC         </td><td>Homo sapiens           </td><td>ILLUMINA               </td><td>2016-12-20             </td><td>SRP082682              </td><td>Not collected          </td><td>Kim lab                </td><td>Not collected          </td><td>FACS-purified monocytes</td></tr>\n",
       "\t<tr><td>SAMN05616145           </td><td>SRX2043367             </td><td>classical02            </td><td>2016-08-24             </td><td>1623                   </td><td>1196                   </td><td>SRR4053796             </td><td>SRS1636083             </td><td>classical02            </td><td>classical02            </td><td>...                    </td><td>RT-PCR                 </td><td>TRANSCRIPTOMIC         </td><td>Homo sapiens           </td><td>ILLUMINA               </td><td>2016-12-20             </td><td>SRP082682              </td><td>Not collected          </td><td>Kim lab                </td><td>Not collected          </td><td>FACS-purified monocytes</td></tr>\n",
       "\t<tr><td>SAMN05616154           </td><td>SRX2043368             </td><td>classical13            </td><td>2016-08-24             </td><td>1405                   </td><td> 973                   </td><td>SRR4053797             </td><td>SRS1636084             </td><td>classical13            </td><td>classical13            </td><td>...                    </td><td>RT-PCR                 </td><td>TRANSCRIPTOMIC         </td><td>Homo sapiens           </td><td>ILLUMINA               </td><td>2016-12-20             </td><td>SRP082682              </td><td>Not collected          </td><td>Kim lab                </td><td>Not collected          </td><td>FACS-purified monocytes</td></tr>\n",
       "\t<tr><td>SAMN05616155           </td><td>SRX2043369             </td><td>classical14            </td><td>2016-08-24             </td><td>1170                   </td><td> 818                   </td><td>SRR4053798             </td><td>SRS1636085             </td><td>classical14            </td><td>classical14            </td><td>...                    </td><td>RT-PCR                 </td><td>TRANSCRIPTOMIC         </td><td>Homo sapiens           </td><td>ILLUMINA               </td><td>2016-12-20             </td><td>SRP082682              </td><td>Not collected          </td><td>Kim lab                </td><td>Not collected          </td><td>FACS-purified monocytes</td></tr>\n",
       "\t<tr><td>SAMN05616156           </td><td>SRX2043370             </td><td>classical15            </td><td>2016-08-24             </td><td> 666                   </td><td> 474                   </td><td>SRR4053799             </td><td>SRS1636086             </td><td>classical15            </td><td>classical15            </td><td>...                    </td><td>RT-PCR                 </td><td>TRANSCRIPTOMIC         </td><td>Homo sapiens           </td><td>ILLUMINA               </td><td>2016-12-20             </td><td>SRP082682              </td><td>Not collected          </td><td>Kim lab                </td><td>Not collected          </td><td>FACS-purified monocytes</td></tr>\n",
       "\t<tr><td>SAMN05616157           </td><td>SRX2043371             </td><td>classical16            </td><td>2016-08-24             </td><td> 881                   </td><td> 641                   </td><td>SRR4053800             </td><td>SRS1636087             </td><td>classical16            </td><td>classical16            </td><td>...                    </td><td>RT-PCR                 </td><td>TRANSCRIPTOMIC         </td><td>Homo sapiens           </td><td>ILLUMINA               </td><td>2016-12-20             </td><td>SRP082682              </td><td>Not collected          </td><td>Kim lab                </td><td>Not collected          </td><td>FACS-purified monocytes</td></tr>\n",
       "</tbody>\n",
       "</table>\n"
      ],
      "text/latex": [
       "\\begin{tabular}{r|lllllllllllllllllllllllllllllll}\n",
       " BioSample & Experiment & Library\\_Name & LoadDate & MBases & MBytes & Run & SRA\\_Sample & Sample\\_Name & isolate & ... & LibrarySelection & LibrarySource & Organism & Platform & ReleaseDate & SRA\\_Study & age & biomaterial\\_provider & sex & tissue\\\\\n",
       "\\hline\n",
       "\t SAMN05616144            & SRX2043366              & classical01             & 2016-08-24              &  641                    &  491                    & SRR4053795              & SRS1636082              & classical01             & classical01             & ...                     & RT-PCR                  & TRANSCRIPTOMIC          & Homo sapiens            & ILLUMINA                & 2016-12-20              & SRP082682               & Not collected           & Kim lab                 & Not collected           & FACS-purified monocytes\\\\\n",
       "\t SAMN05616145            & SRX2043367              & classical02             & 2016-08-24              & 1623                    & 1196                    & SRR4053796              & SRS1636083              & classical02             & classical02             & ...                     & RT-PCR                  & TRANSCRIPTOMIC          & Homo sapiens            & ILLUMINA                & 2016-12-20              & SRP082682               & Not collected           & Kim lab                 & Not collected           & FACS-purified monocytes\\\\\n",
       "\t SAMN05616154            & SRX2043368              & classical13             & 2016-08-24              & 1405                    &  973                    & SRR4053797              & SRS1636084              & classical13             & classical13             & ...                     & RT-PCR                  & TRANSCRIPTOMIC          & Homo sapiens            & ILLUMINA                & 2016-12-20              & SRP082682               & Not collected           & Kim lab                 & Not collected           & FACS-purified monocytes\\\\\n",
       "\t SAMN05616155            & SRX2043369              & classical14             & 2016-08-24              & 1170                    &  818                    & SRR4053798              & SRS1636085              & classical14             & classical14             & ...                     & RT-PCR                  & TRANSCRIPTOMIC          & Homo sapiens            & ILLUMINA                & 2016-12-20              & SRP082682               & Not collected           & Kim lab                 & Not collected           & FACS-purified monocytes\\\\\n",
       "\t SAMN05616156            & SRX2043370              & classical15             & 2016-08-24              &  666                    &  474                    & SRR4053799              & SRS1636086              & classical15             & classical15             & ...                     & RT-PCR                  & TRANSCRIPTOMIC          & Homo sapiens            & ILLUMINA                & 2016-12-20              & SRP082682               & Not collected           & Kim lab                 & Not collected           & FACS-purified monocytes\\\\\n",
       "\t SAMN05616157            & SRX2043371              & classical16             & 2016-08-24              &  881                    &  641                    & SRR4053800              & SRS1636087              & classical16             & classical16             & ...                     & RT-PCR                  & TRANSCRIPTOMIC          & Homo sapiens            & ILLUMINA                & 2016-12-20              & SRP082682               & Not collected           & Kim lab                 & Not collected           & FACS-purified monocytes\\\\\n",
       "\\end{tabular}\n"
      ],
      "text/markdown": [
       "\n",
       "| BioSample | Experiment | Library_Name | LoadDate | MBases | MBytes | Run | SRA_Sample | Sample_Name | isolate | ... | LibrarySelection | LibrarySource | Organism | Platform | ReleaseDate | SRA_Study | age | biomaterial_provider | sex | tissue |\n",
       "|---|---|---|---|---|---|---|---|---|---|---|---|---|---|---|---|---|---|---|---|---|\n",
       "| SAMN05616144            | SRX2043366              | classical01             | 2016-08-24              |  641                    |  491                    | SRR4053795              | SRS1636082              | classical01             | classical01             | ...                     | RT-PCR                  | TRANSCRIPTOMIC          | Homo sapiens            | ILLUMINA                | 2016-12-20              | SRP082682               | Not collected           | Kim lab                 | Not collected           | FACS-purified monocytes |\n",
       "| SAMN05616145            | SRX2043367              | classical02             | 2016-08-24              | 1623                    | 1196                    | SRR4053796              | SRS1636083              | classical02             | classical02             | ...                     | RT-PCR                  | TRANSCRIPTOMIC          | Homo sapiens            | ILLUMINA                | 2016-12-20              | SRP082682               | Not collected           | Kim lab                 | Not collected           | FACS-purified monocytes |\n",
       "| SAMN05616154            | SRX2043368              | classical13             | 2016-08-24              | 1405                    |  973                    | SRR4053797              | SRS1636084              | classical13             | classical13             | ...                     | RT-PCR                  | TRANSCRIPTOMIC          | Homo sapiens            | ILLUMINA                | 2016-12-20              | SRP082682               | Not collected           | Kim lab                 | Not collected           | FACS-purified monocytes |\n",
       "| SAMN05616155            | SRX2043369              | classical14             | 2016-08-24              | 1170                    |  818                    | SRR4053798              | SRS1636085              | classical14             | classical14             | ...                     | RT-PCR                  | TRANSCRIPTOMIC          | Homo sapiens            | ILLUMINA                | 2016-12-20              | SRP082682               | Not collected           | Kim lab                 | Not collected           | FACS-purified monocytes |\n",
       "| SAMN05616156            | SRX2043370              | classical15             | 2016-08-24              |  666                    |  474                    | SRR4053799              | SRS1636086              | classical15             | classical15             | ...                     | RT-PCR                  | TRANSCRIPTOMIC          | Homo sapiens            | ILLUMINA                | 2016-12-20              | SRP082682               | Not collected           | Kim lab                 | Not collected           | FACS-purified monocytes |\n",
       "| SAMN05616157            | SRX2043371              | classical16             | 2016-08-24              |  881                    |  641                    | SRR4053800              | SRS1636087              | classical16             | classical16             | ...                     | RT-PCR                  | TRANSCRIPTOMIC          | Homo sapiens            | ILLUMINA                | 2016-12-20              | SRP082682               | Not collected           | Kim lab                 | Not collected           | FACS-purified monocytes |\n",
       "\n"
      ],
      "text/plain": [
       "  BioSample    Experiment Library_Name LoadDate   MBases MBytes Run       \n",
       "1 SAMN05616144 SRX2043366 classical01  2016-08-24  641    491   SRR4053795\n",
       "2 SAMN05616145 SRX2043367 classical02  2016-08-24 1623   1196   SRR4053796\n",
       "3 SAMN05616154 SRX2043368 classical13  2016-08-24 1405    973   SRR4053797\n",
       "4 SAMN05616155 SRX2043369 classical14  2016-08-24 1170    818   SRR4053798\n",
       "5 SAMN05616156 SRX2043370 classical15  2016-08-24  666    474   SRR4053799\n",
       "6 SAMN05616157 SRX2043371 classical16  2016-08-24  881    641   SRR4053800\n",
       "  SRA_Sample Sample_Name isolate     ... LibrarySelection LibrarySource \n",
       "1 SRS1636082 classical01 classical01 ... RT-PCR           TRANSCRIPTOMIC\n",
       "2 SRS1636083 classical02 classical02 ... RT-PCR           TRANSCRIPTOMIC\n",
       "3 SRS1636084 classical13 classical13 ... RT-PCR           TRANSCRIPTOMIC\n",
       "4 SRS1636085 classical14 classical14 ... RT-PCR           TRANSCRIPTOMIC\n",
       "5 SRS1636086 classical15 classical15 ... RT-PCR           TRANSCRIPTOMIC\n",
       "6 SRS1636087 classical16 classical16 ... RT-PCR           TRANSCRIPTOMIC\n",
       "  Organism     Platform ReleaseDate SRA_Study age          \n",
       "1 Homo sapiens ILLUMINA 2016-12-20  SRP082682 Not collected\n",
       "2 Homo sapiens ILLUMINA 2016-12-20  SRP082682 Not collected\n",
       "3 Homo sapiens ILLUMINA 2016-12-20  SRP082682 Not collected\n",
       "4 Homo sapiens ILLUMINA 2016-12-20  SRP082682 Not collected\n",
       "5 Homo sapiens ILLUMINA 2016-12-20  SRP082682 Not collected\n",
       "6 Homo sapiens ILLUMINA 2016-12-20  SRP082682 Not collected\n",
       "  biomaterial_provider sex           tissue                 \n",
       "1 Kim lab              Not collected FACS-purified monocytes\n",
       "2 Kim lab              Not collected FACS-purified monocytes\n",
       "3 Kim lab              Not collected FACS-purified monocytes\n",
       "4 Kim lab              Not collected FACS-purified monocytes\n",
       "5 Kim lab              Not collected FACS-purified monocytes\n",
       "6 Kim lab              Not collected FACS-purified monocytes"
      ]
     },
     "metadata": {},
     "output_type": "display_data"
    },
    {
     "data": {
      "text/html": [
       "34"
      ],
      "text/latex": [
       "34"
      ],
      "text/markdown": [
       "34"
      ],
      "text/plain": [
       "[1] 34"
      ]
     },
     "metadata": {},
     "output_type": "display_data"
    }
   ],
   "source": [
    "factors = as.data.frame(fread(\"../../../data/PRJNA339968/PRJNA339968_SraRunTable.tsv\"))\n",
    "head(factors)\n",
    "nrow(factors)"
   ]
  },
  {
   "cell_type": "code",
   "execution_count": 4,
   "metadata": {},
   "outputs": [],
   "source": [
    "prefix <- \"^\"\n",
    "condition1 <- \"classical\"\n",
    "condition1exp <- paste(prefix, condition1, sep=\"\")\n",
    "condition2 <- \"nonclassical\"\n",
    "condition2exp <- paste(prefix, condition2, sep=\"\")\n",
    "condition <- c()\n",
    "for(i in factors$Sample_Name){\n",
    "    if (grepl(condition1exp, i)){\n",
    "        condition <- c(condition,condition1)\n",
    "    }else if (grepl(condition2exp, i)){\n",
    "        condition <- c(condition,condition2)\n",
    "    }\n",
    "}\n",
    "factors$Condition <- condition"
   ]
  },
  {
   "cell_type": "code",
   "execution_count": 5,
   "metadata": {},
   "outputs": [],
   "source": [
    "min_p_value = 0.05\n",
    "highlight_color = \"red\"\n",
    "min_count = 10\n",
    "min_number_samples = length(condition[condition == 'classical'])"
   ]
  },
  {
   "cell_type": "code",
   "execution_count": 6,
   "metadata": {},
   "outputs": [
    {
     "data": {
      "text/html": [
       "50151"
      ],
      "text/latex": [
       "50151"
      ],
      "text/markdown": [
       "50151"
      ],
      "text/plain": [
       "[1] 50151"
      ]
     },
     "metadata": {},
     "output_type": "display_data"
    },
    {
     "data": {
      "text/html": [
       "<table>\n",
       "<thead><tr><th scope=col>Gene_Id</th><th scope=col>Chr</th><th scope=col>Start</th><th scope=col>End</th><th scope=col>ExonLength</th><th scope=col>SRR4053795</th><th scope=col>SRR4053796</th><th scope=col>SRR4053797</th><th scope=col>SRR4053798</th><th scope=col>SRR4053799</th><th scope=col>...</th><th scope=col>SRR4053819</th><th scope=col>SRR4053820</th><th scope=col>SRR4053822</th><th scope=col>SRR4053821</th><th scope=col>SRR4053823</th><th scope=col>SRR4053824</th><th scope=col>SRR4053825</th><th scope=col>SRR4098781</th><th scope=col>SRR4098782</th><th scope=col>SRR4098783</th></tr></thead>\n",
       "<tbody>\n",
       "\t<tr><td>ENSG00000237683.5</td><td>chr1             </td><td>134900           </td><td>139378           </td><td>2661             </td><td>  43             </td><td>   4             </td><td>  59             </td><td>  61             </td><td> 22              </td><td>...              </td><td>  85             </td><td>  34             </td><td>  29             </td><td> 390             </td><td>   3             </td><td> 12              </td><td>  38             </td><td>  100            </td><td> 105             </td><td> 106             </td></tr>\n",
       "\t<tr><td>ENSG00000241860.2</td><td>chr1             </td><td>141473           </td><td>173861           </td><td>6195             </td><td>   4             </td><td>   0             </td><td>   0             </td><td>  33             </td><td> 13              </td><td>...              </td><td>   5             </td><td>   7             </td><td>   6             </td><td>  15             </td><td>   1             </td><td>  1              </td><td>  37             </td><td>   15            </td><td>  15             </td><td>  10             </td></tr>\n",
       "\t<tr><td>ENSG00000230021.3</td><td>chr1             </td><td>536815           </td><td>659929           </td><td>1697             </td><td>   0             </td><td>   0             </td><td>   0             </td><td>   0             </td><td>  0              </td><td>...              </td><td>   0             </td><td>   0             </td><td>   0             </td><td>   0             </td><td>   0             </td><td>  0              </td><td>   0             </td><td>    0            </td><td>   0             </td><td>   0             </td></tr>\n",
       "\t<tr><td>ENSG00000225972.1</td><td>chr1             </td><td>564441           </td><td>564812           </td><td> 372             </td><td> 769             </td><td>  14             </td><td>2610             </td><td>  11             </td><td>  8              </td><td>...              </td><td>1025             </td><td>1835             </td><td>   6             </td><td>2314             </td><td> 456             </td><td> 11              </td><td>1361             </td><td> 2019            </td><td>   6             </td><td> 929             </td></tr>\n",
       "\t<tr><td>ENSG00000225630.1</td><td>chr1             </td><td>565019           </td><td>566062           </td><td>1044             </td><td> 537             </td><td>1490             </td><td>2668             </td><td>1569             </td><td>563              </td><td>...              </td><td>1069             </td><td>1283             </td><td> 857             </td><td>1115             </td><td> 223             </td><td>270              </td><td> 649             </td><td> 1294            </td><td>1594             </td><td> 806             </td></tr>\n",
       "\t<tr><td>ENSG00000237973.1</td><td>chr1             </td><td>566453           </td><td>567995           </td><td>1543             </td><td>1024             </td><td>1164             </td><td> 125             </td><td>3023             </td><td>137              </td><td>...              </td><td>3508             </td><td>1758             </td><td>2916             </td><td>2128             </td><td>2517             </td><td>965              </td><td>6273             </td><td>11805            </td><td>3226             </td><td>7501             </td></tr>\n",
       "</tbody>\n",
       "</table>\n"
      ],
      "text/latex": [
       "\\begin{tabular}{r|lllllllllllllllllllllllllllllllllllllll}\n",
       " Gene\\_Id & Chr & Start & End & ExonLength & SRR4053795 & SRR4053796 & SRR4053797 & SRR4053798 & SRR4053799 & ... & SRR4053819 & SRR4053820 & SRR4053822 & SRR4053821 & SRR4053823 & SRR4053824 & SRR4053825 & SRR4098781 & SRR4098782 & SRR4098783\\\\\n",
       "\\hline\n",
       "\t ENSG00000237683.5 & chr1              & 134900            & 139378            & 2661              &   43              &    4              &   59              &   61              &  22               & ...               &   85              &   34              &   29              &  390              &    3              &  12               &   38              &   100             &  105              &  106             \\\\\n",
       "\t ENSG00000241860.2 & chr1              & 141473            & 173861            & 6195              &    4              &    0              &    0              &   33              &  13               & ...               &    5              &    7              &    6              &   15              &    1              &   1               &   37              &    15             &   15              &   10             \\\\\n",
       "\t ENSG00000230021.3 & chr1              & 536815            & 659929            & 1697              &    0              &    0              &    0              &    0              &   0               & ...               &    0              &    0              &    0              &    0              &    0              &   0               &    0              &     0             &    0              &    0             \\\\\n",
       "\t ENSG00000225972.1 & chr1              & 564441            & 564812            &  372              &  769              &   14              & 2610              &   11              &   8               & ...               & 1025              & 1835              &    6              & 2314              &  456              &  11               & 1361              &  2019             &    6              &  929             \\\\\n",
       "\t ENSG00000225630.1 & chr1              & 565019            & 566062            & 1044              &  537              & 1490              & 2668              & 1569              & 563               & ...               & 1069              & 1283              &  857              & 1115              &  223              & 270               &  649              &  1294             & 1594              &  806             \\\\\n",
       "\t ENSG00000237973.1 & chr1              & 566453            & 567995            & 1543              & 1024              & 1164              &  125              & 3023              & 137               & ...               & 3508              & 1758              & 2916              & 2128              & 2517              & 965               & 6273              & 11805             & 3226              & 7501             \\\\\n",
       "\\end{tabular}\n"
      ],
      "text/markdown": [
       "\n",
       "| Gene_Id | Chr | Start | End | ExonLength | SRR4053795 | SRR4053796 | SRR4053797 | SRR4053798 | SRR4053799 | ... | SRR4053819 | SRR4053820 | SRR4053822 | SRR4053821 | SRR4053823 | SRR4053824 | SRR4053825 | SRR4098781 | SRR4098782 | SRR4098783 |\n",
       "|---|---|---|---|---|---|---|---|---|---|---|---|---|---|---|---|---|---|---|---|---|\n",
       "| ENSG00000237683.5 | chr1              | 134900            | 139378            | 2661              |   43              |    4              |   59              |   61              |  22               | ...               |   85              |   34              |   29              |  390              |    3              |  12               |   38              |   100             |  105              |  106              |\n",
       "| ENSG00000241860.2 | chr1              | 141473            | 173861            | 6195              |    4              |    0              |    0              |   33              |  13               | ...               |    5              |    7              |    6              |   15              |    1              |   1               |   37              |    15             |   15              |   10              |\n",
       "| ENSG00000230021.3 | chr1              | 536815            | 659929            | 1697              |    0              |    0              |    0              |    0              |   0               | ...               |    0              |    0              |    0              |    0              |    0              |   0               |    0              |     0             |    0              |    0              |\n",
       "| ENSG00000225972.1 | chr1              | 564441            | 564812            |  372              |  769              |   14              | 2610              |   11              |   8               | ...               | 1025              | 1835              |    6              | 2314              |  456              |  11               | 1361              |  2019             |    6              |  929              |\n",
       "| ENSG00000225630.1 | chr1              | 565019            | 566062            | 1044              |  537              | 1490              | 2668              | 1569              | 563               | ...               | 1069              | 1283              |  857              | 1115              |  223              | 270               |  649              |  1294             | 1594              |  806              |\n",
       "| ENSG00000237973.1 | chr1              | 566453            | 567995            | 1543              | 1024              | 1164              |  125              | 3023              | 137               | ...               | 3508              | 1758              | 2916              | 2128              | 2517              | 965               | 6273              | 11805             | 3226              | 7501              |\n",
       "\n"
      ],
      "text/plain": [
       "  Gene_Id           Chr  Start  End    ExonLength SRR4053795 SRR4053796\n",
       "1 ENSG00000237683.5 chr1 134900 139378 2661         43          4      \n",
       "2 ENSG00000241860.2 chr1 141473 173861 6195          4          0      \n",
       "3 ENSG00000230021.3 chr1 536815 659929 1697          0          0      \n",
       "4 ENSG00000225972.1 chr1 564441 564812  372        769         14      \n",
       "5 ENSG00000225630.1 chr1 565019 566062 1044        537       1490      \n",
       "6 ENSG00000237973.1 chr1 566453 567995 1543       1024       1164      \n",
       "  SRR4053797 SRR4053798 SRR4053799 ... SRR4053819 SRR4053820 SRR4053822\n",
       "1   59         61        22        ...   85         34         29      \n",
       "2    0         33        13        ...    5          7          6      \n",
       "3    0          0         0        ...    0          0          0      \n",
       "4 2610         11         8        ... 1025       1835          6      \n",
       "5 2668       1569       563        ... 1069       1283        857      \n",
       "6  125       3023       137        ... 3508       1758       2916      \n",
       "  SRR4053821 SRR4053823 SRR4053824 SRR4053825 SRR4098781 SRR4098782 SRR4098783\n",
       "1  390          3        12          38         100       105        106      \n",
       "2   15          1         1          37          15        15         10      \n",
       "3    0          0         0           0           0         0          0      \n",
       "4 2314        456        11        1361        2019         6        929      \n",
       "5 1115        223       270         649        1294      1594        806      \n",
       "6 2128       2517       965        6273       11805      3226       7501      "
      ]
     },
     "metadata": {},
     "output_type": "display_data"
    }
   ],
   "source": [
    "data <- as.data.frame(fread(\"../quantification/ExonReads.tsv\"))\n",
    "data <- data[,c(c(1,2,3,4,5),match(factors$Run,names(data)))]\n",
    "nrow(data)\n",
    "head(data)"
   ]
  },
  {
   "cell_type": "code",
   "execution_count": 7,
   "metadata": {
    "scrolled": true
   },
   "outputs": [
    {
     "data": {
      "text/html": [
       "9619"
      ],
      "text/latex": [
       "9619"
      ],
      "text/markdown": [
       "9619"
      ],
      "text/plain": [
       "[1] 9619"
      ]
     },
     "metadata": {},
     "output_type": "display_data"
    },
    {
     "data": {
      "text/html": [
       "<table>\n",
       "<thead><tr><th></th><th scope=col>SRR4053795</th><th scope=col>SRR4053796</th><th scope=col>SRR4053797</th><th scope=col>SRR4053798</th><th scope=col>SRR4053799</th><th scope=col>SRR4053800</th><th scope=col>SRR4053801</th><th scope=col>SRR4053802</th><th scope=col>SRR4053803</th><th scope=col>SRR4053804</th><th scope=col>...</th><th scope=col>SRR4053819</th><th scope=col>SRR4053820</th><th scope=col>SRR4053822</th><th scope=col>SRR4053821</th><th scope=col>SRR4053823</th><th scope=col>SRR4053824</th><th scope=col>SRR4053825</th><th scope=col>SRR4098781</th><th scope=col>SRR4098782</th><th scope=col>SRR4098783</th></tr></thead>\n",
       "<tbody>\n",
       "\t<tr><th scope=row>ENSG00000237683.5</th><td>  43 </td><td>   4 </td><td>  59 </td><td>  61 </td><td>  22 </td><td>  45 </td><td>  7  </td><td>  4  </td><td>   0 </td><td>  48 </td><td>...  </td><td>  85 </td><td>  34 </td><td>  29 </td><td> 390 </td><td>   3 </td><td> 12  </td><td>  38 </td><td>  100</td><td> 105 </td><td> 106 </td></tr>\n",
       "\t<tr><th scope=row>ENSG00000225972.1</th><td> 769 </td><td>  14 </td><td>2610 </td><td>  11 </td><td>   8 </td><td> 979 </td><td>254  </td><td>136  </td><td>   3 </td><td>   4 </td><td>...  </td><td>1025 </td><td>1835 </td><td>   6 </td><td>2314 </td><td> 456 </td><td> 11  </td><td>1361 </td><td> 2019</td><td>   6 </td><td> 929 </td></tr>\n",
       "\t<tr><th scope=row>ENSG00000225630.1</th><td> 537 </td><td>1490 </td><td>2668 </td><td>1569 </td><td> 563 </td><td> 552 </td><td>145  </td><td>185  </td><td> 175 </td><td> 861 </td><td>...  </td><td>1069 </td><td>1283 </td><td> 857 </td><td>1115 </td><td> 223 </td><td>270  </td><td> 649 </td><td> 1294</td><td>1594 </td><td> 806 </td></tr>\n",
       "\t<tr><th scope=row>ENSG00000237973.1</th><td>1024 </td><td>1164 </td><td> 125 </td><td>3023 </td><td> 137 </td><td>2161 </td><td>557  </td><td>363  </td><td> 871 </td><td> 218 </td><td>...  </td><td>3508 </td><td>1758 </td><td>2916 </td><td>2128 </td><td>2517 </td><td>965  </td><td>6273 </td><td>11805</td><td>3226 </td><td>7501 </td></tr>\n",
       "\t<tr><th scope=row>ENSG00000229344.1</th><td>  21 </td><td>  67 </td><td>  59 </td><td>  19 </td><td>   8 </td><td>  18 </td><td>  2  </td><td>  6  </td><td>  10 </td><td>  18 </td><td>...  </td><td>  63 </td><td>  26 </td><td>  17 </td><td>  30 </td><td>   4 </td><td> 14  </td><td>  24 </td><td>   24</td><td>  53 </td><td>  31 </td></tr>\n",
       "\t<tr><th scope=row>ENSG00000248527.1</th><td>1040 </td><td>3171 </td><td>3122 </td><td>3058 </td><td>1510 </td><td>1258 </td><td>490  </td><td>232  </td><td>1190 </td><td>1678 </td><td>...  </td><td>3023 </td><td>1879 </td><td>1745 </td><td>3805 </td><td> 716 </td><td>778  </td><td>1766 </td><td> 3765</td><td>2890 </td><td>2326 </td></tr>\n",
       "</tbody>\n",
       "</table>\n"
      ],
      "text/latex": [
       "\\begin{tabular}{r|llllllllllllllllllllllllllllllllll}\n",
       "  & SRR4053795 & SRR4053796 & SRR4053797 & SRR4053798 & SRR4053799 & SRR4053800 & SRR4053801 & SRR4053802 & SRR4053803 & SRR4053804 & ... & SRR4053819 & SRR4053820 & SRR4053822 & SRR4053821 & SRR4053823 & SRR4053824 & SRR4053825 & SRR4098781 & SRR4098782 & SRR4098783\\\\\n",
       "\\hline\n",
       "\tENSG00000237683.5 &   43  &    4  &   59  &   61  &   22  &   45  &   7   &   4   &    0  &   48  & ...   &   85  &   34  &   29  &  390  &    3  &  12   &   38  &   100 &  105  &  106 \\\\\n",
       "\tENSG00000225972.1 &  769  &   14  & 2610  &   11  &    8  &  979  & 254   & 136   &    3  &    4  & ...   & 1025  & 1835  &    6  & 2314  &  456  &  11   & 1361  &  2019 &    6  &  929 \\\\\n",
       "\tENSG00000225630.1 &  537  & 1490  & 2668  & 1569  &  563  &  552  & 145   & 185   &  175  &  861  & ...   & 1069  & 1283  &  857  & 1115  &  223  & 270   &  649  &  1294 & 1594  &  806 \\\\\n",
       "\tENSG00000237973.1 & 1024  & 1164  &  125  & 3023  &  137  & 2161  & 557   & 363   &  871  &  218  & ...   & 3508  & 1758  & 2916  & 2128  & 2517  & 965   & 6273  & 11805 & 3226  & 7501 \\\\\n",
       "\tENSG00000229344.1 &   21  &   67  &   59  &   19  &    8  &   18  &   2   &   6   &   10  &   18  & ...   &   63  &   26  &   17  &   30  &    4  &  14   &   24  &    24 &   53  &   31 \\\\\n",
       "\tENSG00000248527.1 & 1040  & 3171  & 3122  & 3058  & 1510  & 1258  & 490   & 232   & 1190  & 1678  & ...   & 3023  & 1879  & 1745  & 3805  &  716  & 778   & 1766  &  3765 & 2890  & 2326 \\\\\n",
       "\\end{tabular}\n"
      ],
      "text/markdown": [
       "\n",
       "| <!--/--> | SRR4053795 | SRR4053796 | SRR4053797 | SRR4053798 | SRR4053799 | SRR4053800 | SRR4053801 | SRR4053802 | SRR4053803 | SRR4053804 | ... | SRR4053819 | SRR4053820 | SRR4053822 | SRR4053821 | SRR4053823 | SRR4053824 | SRR4053825 | SRR4098781 | SRR4098782 | SRR4098783 |\n",
       "|---|---|---|---|---|---|---|---|---|---|---|---|---|---|---|---|---|---|---|---|---|---|\n",
       "| ENSG00000237683.5 |   43  |    4  |   59  |   61  |   22  |   45  |   7   |   4   |    0  |   48  | ...   |   85  |   34  |   29  |  390  |    3  |  12   |   38  |   100 |  105  |  106  |\n",
       "| ENSG00000225972.1 |  769  |   14  | 2610  |   11  |    8  |  979  | 254   | 136   |    3  |    4  | ...   | 1025  | 1835  |    6  | 2314  |  456  |  11   | 1361  |  2019 |    6  |  929  |\n",
       "| ENSG00000225630.1 |  537  | 1490  | 2668  | 1569  |  563  |  552  | 145   | 185   |  175  |  861  | ...   | 1069  | 1283  |  857  | 1115  |  223  | 270   |  649  |  1294 | 1594  |  806  |\n",
       "| ENSG00000237973.1 | 1024  | 1164  |  125  | 3023  |  137  | 2161  | 557   | 363   |  871  |  218  | ...   | 3508  | 1758  | 2916  | 2128  | 2517  | 965   | 6273  | 11805 | 3226  | 7501  |\n",
       "| ENSG00000229344.1 |   21  |   67  |   59  |   19  |    8  |   18  |   2   |   6   |   10  |   18  | ...   |   63  |   26  |   17  |   30  |    4  |  14   |   24  |    24 |   53  |   31  |\n",
       "| ENSG00000248527.1 | 1040  | 3171  | 3122  | 3058  | 1510  | 1258  | 490   | 232   | 1190  | 1678  | ...   | 3023  | 1879  | 1745  | 3805  |  716  | 778   | 1766  |  3765 | 2890  | 2326  |\n",
       "\n"
      ],
      "text/plain": [
       "                  SRR4053795 SRR4053796 SRR4053797 SRR4053798 SRR4053799\n",
       "ENSG00000237683.5   43          4         59         61         22      \n",
       "ENSG00000225972.1  769         14       2610         11          8      \n",
       "ENSG00000225630.1  537       1490       2668       1569        563      \n",
       "ENSG00000237973.1 1024       1164        125       3023        137      \n",
       "ENSG00000229344.1   21         67         59         19          8      \n",
       "ENSG00000248527.1 1040       3171       3122       3058       1510      \n",
       "                  SRR4053800 SRR4053801 SRR4053802 SRR4053803 SRR4053804 ...\n",
       "ENSG00000237683.5   45         7          4           0         48       ...\n",
       "ENSG00000225972.1  979       254        136           3          4       ...\n",
       "ENSG00000225630.1  552       145        185         175        861       ...\n",
       "ENSG00000237973.1 2161       557        363         871        218       ...\n",
       "ENSG00000229344.1   18         2          6          10         18       ...\n",
       "ENSG00000248527.1 1258       490        232        1190       1678       ...\n",
       "                  SRR4053819 SRR4053820 SRR4053822 SRR4053821 SRR4053823\n",
       "ENSG00000237683.5   85         34         29        390          3      \n",
       "ENSG00000225972.1 1025       1835          6       2314        456      \n",
       "ENSG00000225630.1 1069       1283        857       1115        223      \n",
       "ENSG00000237973.1 3508       1758       2916       2128       2517      \n",
       "ENSG00000229344.1   63         26         17         30          4      \n",
       "ENSG00000248527.1 3023       1879       1745       3805        716      \n",
       "                  SRR4053824 SRR4053825 SRR4098781 SRR4098782 SRR4098783\n",
       "ENSG00000237683.5  12          38         100       105        106      \n",
       "ENSG00000225972.1  11        1361        2019         6        929      \n",
       "ENSG00000225630.1 270         649        1294      1594        806      \n",
       "ENSG00000237973.1 965        6273       11805      3226       7501      \n",
       "ENSG00000229344.1  14          24          24        53         31      \n",
       "ENSG00000248527.1 778        1766        3765      2890       2326      "
      ]
     },
     "metadata": {},
     "output_type": "display_data"
    }
   ],
   "source": [
    "data.counts <- data[, -c(1:5)]\n",
    "data.counts[is.na(data.counts)] <- 0\n",
    "row.names(data.counts) <- data[, 1]\n",
    "data.counts[] <- as.integer(round(as.matrix(data.counts)))\n",
    "keep <- (rowSums(data.counts > min_count) >= min_number_samples)\n",
    "genes_filtered <- rownames(data.counts[keep, ])\n",
    "data.counts <- data.counts[genes_filtered,]\n",
    "data <- subset(data, data$Gene_Id %in% genes_filtered)\n",
    "nrow(data.counts)\n",
    "head(data.counts)"
   ]
  },
  {
   "cell_type": "code",
   "execution_count": 8,
   "metadata": {
    "scrolled": true
   },
   "outputs": [
    {
     "name": "stdout",
     "output_type": "stream",
     "text": [
      "Estimating sequencing depths...\n",
      "Resampling to get new data matrices...\n",
      "perm= 1\n",
      "perm= 2\n",
      "perm= 3\n",
      "perm= 4\n",
      "perm= 5\n",
      "perm= 6\n",
      "perm= 7\n",
      "perm= 8\n",
      "perm= 9\n",
      "perm= 10\n",
      "perm= 11\n",
      "perm= 12\n",
      "perm= 13\n",
      "perm= 14\n",
      "perm= 15\n",
      "perm= 16\n",
      "perm= 17\n",
      "perm= 18\n",
      "perm= 19\n",
      "perm= 20\n",
      "perm= 21\n",
      "perm= 22\n",
      "perm= 23\n",
      "perm= 24\n",
      "perm= 25\n",
      "perm= 26\n",
      "perm= 27\n",
      "perm= 28\n",
      "perm= 29\n",
      "perm= 30\n",
      "perm= 31\n",
      "perm= 32\n",
      "perm= 33\n",
      "perm= 34\n",
      "perm= 35\n",
      "perm= 36\n",
      "perm= 37\n",
      "perm= 38\n",
      "perm= 39\n",
      "perm= 40\n",
      "perm= 41\n",
      "perm= 42\n",
      "perm= 43\n",
      "perm= 44\n",
      "perm= 45\n",
      "perm= 46\n",
      "perm= 47\n",
      "perm= 48\n",
      "perm= 49\n",
      "perm= 50\n",
      "perm= 51\n",
      "perm= 52\n",
      "perm= 53\n",
      "perm= 54\n",
      "perm= 55\n",
      "perm= 56\n",
      "perm= 57\n",
      "perm= 58\n",
      "perm= 59\n",
      "perm= 60\n",
      "perm= 61\n",
      "perm= 62\n",
      "perm= 63\n",
      "perm= 64\n",
      "perm= 65\n",
      "perm= 66\n",
      "perm= 67\n",
      "perm= 68\n",
      "perm= 69\n",
      "perm= 70\n",
      "perm= 71\n",
      "perm= 72\n",
      "perm= 73\n",
      "perm= 74\n",
      "perm= 75\n",
      "perm= 76\n",
      "perm= 77\n",
      "perm= 78\n",
      "perm= 79\n",
      "perm= 80\n",
      "perm= 81\n",
      "perm= 82\n",
      "perm= 83\n",
      "perm= 84\n",
      "perm= 85\n",
      "perm= 86\n",
      "perm= 87\n",
      "perm= 88\n",
      "perm= 89\n",
      "perm= 90\n",
      "perm= 91\n",
      "perm= 92\n",
      "perm= 93\n",
      "perm= 94\n",
      "perm= 95\n",
      "perm= 96\n",
      "perm= 97\n",
      "perm= 98\n",
      "perm= 99\n",
      "perm= 100\n",
      "Number of thresholds chosen (all possible thresholds) = 3887\n",
      "Getting all the cutoffs for the thresholds...\n",
      "Getting number of false positives in the permutation...\n"
     ]
    }
   ],
   "source": [
    "groupings <- as.factor(factors$Condition)\n",
    "samfit <- SAMseq(data.counts, groupings, resp.type = \"Two class unpaired\", geneid=row.names(data.counts), fdr=0.05)"
   ]
  },
  {
   "cell_type": "code",
   "execution_count": 9,
   "metadata": {
    "scrolled": false
   },
   "outputs": [],
   "source": [
    "allSam<-rbind(samfit$siggenes.table$genes.up,samfit$siggenes.table$genes.lo)\n",
    "file_name = \"samseq.csv\"\n",
    "write.table(allSam, file_name, row.names=F, na=\"NA\", append = F, quote= FALSE, sep = \",\", col.names = T)\n"
   ]
  }
 ],
 "metadata": {
  "kernelspec": {
   "display_name": "R",
   "language": "R",
   "name": "ir"
  },
  "language_info": {
   "codemirror_mode": "r",
   "file_extension": ".r",
   "mimetype": "text/x-r-source",
   "name": "R",
   "pygments_lexer": "r",
   "version": "3.5.0"
  }
 },
 "nbformat": 4,
 "nbformat_minor": 2
}
