{
 "cells": [
  {
   "cell_type": "code",
   "execution_count": 1,
   "metadata": {},
   "outputs": [],
   "source": [
    "%run ../config/init.py"
   ]
  },
  {
   "cell_type": "markdown",
   "metadata": {},
   "source": [
    "### Creating results folders"
   ]
  },
  {
   "cell_type": "code",
   "execution_count": 2,
   "metadata": {},
   "outputs": [],
   "source": [
    "os.chdir(os.environ['RESULTS'])\n",
    "if not os.path.exists(os.environ['DATASET']):\n",
    "    os.mkdir(os.environ['DATASET'])\n",
    "result_dir = os.path.join(os.environ['RESULTS'],os.environ['DATASET'])\n",
    "data_dir = os.path.join(os.environ['DATA'], os.environ['DATASET'])"
   ]
  },
  {
   "cell_type": "markdown",
   "metadata": {},
   "source": [
    "### Loading input fastq files"
   ]
  },
  {
   "cell_type": "code",
   "execution_count": 3,
   "metadata": {},
   "outputs": [],
   "source": [
    "os.chdir(data_dir)\n",
    "files = [ f for d, ds, fs in os.walk('./') for f in fs if f.endswith('.fastq.gz') ]"
   ]
  },
  {
   "cell_type": "markdown",
   "metadata": {},
   "source": [
    "### Processing samples with FastQC"
   ]
  },
  {
   "cell_type": "code",
   "execution_count": 9,
   "metadata": {},
   "outputs": [
    {
     "name": "stdout",
     "output_type": "stream",
     "text": [
      "removed 'commands'\n",
      "Run completed\n"
     ]
    }
   ],
   "source": [
    "os.chdir(result_dir)\n",
    "if not os.path.exists('fastqc'):\n",
    "    os.mkdir('fastqc')\n",
    "wDir = os.path.join(result_dir, 'fastqc')\n",
    "os.environ['wDir'] = wDir\n",
    "os.chdir(wDir)\n",
    "!rm -f commands\n",
    "errors = {}\n",
    "for f in files:\n",
    "    os.environ['f'] = os.path.join(data_dir, f)\n",
    "    os.environ['n'] = os.path.basename(f).replace('.fastq.gz','')\n",
    "    !echo \"cwl-runner --tmp-outdir-prefix=$TMP/ --tmpdir-prefix=$TMP/ $CWLTOOLS/fastqc/fastqc.cwl --threads 1 --fastq $f\" >> commands       \n",
    "errors = !cat commands | parallel -j 16\n",
    "corrects = 0\n",
    "for e in errors:\n",
    "    if 'Final process status is success' == e:\n",
    "        corrects += 1\n",
    "if corrects == len(files):\n",
    "    print('Run completed')\n",
    "else:\n",
    "    print('There are errors. Please check.')"
   ]
  },
  {
   "cell_type": "code",
   "execution_count": null,
   "metadata": {},
   "outputs": [],
   "source": []
  }
 ],
 "metadata": {
  "kernelspec": {
   "display_name": "Python 3",
   "language": "python",
   "name": "python3"
  },
  "language_info": {
   "codemirror_mode": {
    "name": "ipython",
    "version": 3
   },
   "file_extension": ".py",
   "mimetype": "text/x-python",
   "name": "python",
   "nbconvert_exporter": "python",
   "pygments_lexer": "ipython3",
   "version": "3.6.5"
  }
 },
 "nbformat": 4,
 "nbformat_minor": 2
}
