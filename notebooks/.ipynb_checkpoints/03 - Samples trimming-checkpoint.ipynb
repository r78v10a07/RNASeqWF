{
 "cells": [
  {
   "cell_type": "markdown",
   "metadata": {},
   "source": [
    "## Description\n",
    "\n",
    "This notebook shows the pipeline followd to execute the trimming on the initial samples.\n",
    "\n",
    "Docker images used:\n",
    "\n",
    " * Trimmomatic 0.38 (quay.io/biocontainers/trimmomatic:0.38--1)"
   ]
  },
  {
   "cell_type": "code",
   "execution_count": 1,
   "metadata": {},
   "outputs": [],
   "source": [
    "%run ../config/init.py"
   ]
  },
  {
   "cell_type": "markdown",
   "metadata": {},
   "source": [
    "### Processing samples with Trimmomatic¶"
   ]
  },
  {
   "cell_type": "code",
   "execution_count": 2,
   "metadata": {},
   "outputs": [],
   "source": [
    "result_dir = os.path.join(os.environ['RESULTS'], os.environ['DATASET'], 'trimmomatic')\n",
    "if not os.path.exists(result_dir):\n",
    "    os.mkdir(result_dir)   \n",
    "os.chdir(result_dir)\n",
    "files = [ os.path.join(ds, f) for ds,dr,fs in os.walk(os.path.join(os.environ['DATA'], os.environ['DATASET'])) for f in fs if f.endswith('.fastq.gz')]\n"
   ]
  },
  {
   "cell_type": "code",
   "execution_count": 3,
   "metadata": {},
   "outputs": [
    {
     "name": "stdout",
     "output_type": "stream",
     "text": [
      "There are errors. Please check.\n"
     ]
    }
   ],
   "source": [
    "errors = {}\n",
    "!rm -fv commands\n",
    "for f in files:\n",
    "    os.environ['f'] = f\n",
    "    os.environ['d'] = result_dir\n",
    "    os.environ['n'] = os.path.basename(f).replace('.fastq.gz','')\n",
    "    if not os.path.exists(os.environ['n'] + '_tr.fastq.gz'):\n",
    "        !echo \"cwl-runner --tmp-outdir-prefix=$TMP/ --tmpdir-prefix=$TMP/ $CWLTOOLS/trimmomatic/trimmomatic.cwl --out_stdout=${n}_tr.stdout --out_stderr=${n}_tr.stderr --end_mode=SE --phred=33 --reads1=$f --reads1_out=${n}_tr.fastq.gz --illuminaClip=TruSeq3-SE.fa:2:30:10 --crop=50 --headcrop=10 --minlen=30 --avgqual=30 --leading=30 --trailing=30 --threads=1\" >> commands\n",
    "errors = !cat commands | parallel -j 16    \n",
    "corrects = 0\n",
    "for e in errors:\n",
    "    if 'Final process status is success' == e:\n",
    "        corrects += 1\n",
    "if corrects == len(files):\n",
    "    print('Run completed')\n",
    "else:\n",
    "    print('There are errors. Please check.')"
   ]
  },
  {
   "cell_type": "markdown",
   "metadata": {},
   "source": [
    "### Analyzing trimmed samples with FastQC"
   ]
  },
  {
   "cell_type": "code",
   "execution_count": 4,
   "metadata": {},
   "outputs": [],
   "source": [
    "os.chdir(result_dir)\n",
    "files = [ f for d, ds, fs in os.walk('./') for f in fs if f.endswith('.fastq.gz') ]"
   ]
  },
  {
   "cell_type": "code",
   "execution_count": 5,
   "metadata": {},
   "outputs": [
    {
     "name": "stdout",
     "output_type": "stream",
     "text": [
      "Run completed\n"
     ]
    }
   ],
   "source": [
    "os.chdir(result_dir)\n",
    "if not os.path.exists('fastqc'):\n",
    "    os.mkdir('fastqc')\n",
    "wDir = os.path.join(result_dir, 'fastqc')\n",
    "os.environ['wDir'] = wDir\n",
    "os.chdir(wDir)\n",
    "errors = {}\n",
    "!rm -fv commands\n",
    "for f in files:\n",
    "    os.environ['f'] = os.path.join(result_dir, f)\n",
    "    os.environ['n'] = os.path.basename(f).replace('.fastq.gz','')\n",
    "    !echo \"cwl-runner --tmp-outdir-prefix=$TMP/ --tmpdir-prefix=$TMP/ $CWLTOOLS/fastqc/fastqc.cwl --out_stdout=$n.fastqc.stdout --out_stderr=$n.fastqc.stderr --threads 1 --in_fastqc $f\" >> commands  \n",
    "errors = !cat commands | parallel -j 16    \n",
    "corrects = 0\n",
    "for e in errors:\n",
    "    if 'Final process status is success' == e:\n",
    "        corrects += 1\n",
    "if corrects == len(files):\n",
    "    print('Run completed')\n",
    "else:\n",
    "    print('There are errors. Please check.')"
   ]
  },
  {
   "cell_type": "code",
   "execution_count": 6,
   "metadata": {},
   "outputs": [
    {
     "data": {
      "text/plain": [
       "['cat: commands: No such file or directory']"
      ]
     },
     "execution_count": 6,
     "metadata": {},
     "output_type": "execute_result"
    }
   ],
   "source": [
    "errors"
   ]
  },
  {
   "cell_type": "code",
   "execution_count": null,
   "metadata": {},
   "outputs": [],
   "source": []
  }
 ],
 "metadata": {
  "kernelspec": {
   "display_name": "Python 3",
   "language": "python",
   "name": "python3"
  },
  "language_info": {
   "codemirror_mode": {
    "name": "ipython",
    "version": 3
   },
   "file_extension": ".py",
   "mimetype": "text/x-python",
   "name": "python",
   "nbconvert_exporter": "python",
   "pygments_lexer": "ipython3",
   "version": "3.6.5"
  }
 },
 "nbformat": 4,
 "nbformat_minor": 2
}
