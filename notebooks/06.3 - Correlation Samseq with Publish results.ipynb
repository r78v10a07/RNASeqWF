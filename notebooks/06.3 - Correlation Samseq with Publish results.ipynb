{
 "cells": [
  {
   "cell_type": "code",
   "execution_count": 1,
   "metadata": {},
   "outputs": [],
   "source": [
    "%run ../config/init.py"
   ]
  },
  {
   "cell_type": "code",
   "execution_count": 2,
   "metadata": {},
   "outputs": [],
   "source": [
    "xls_file = os.path.join(os.environ['DATA'], os.environ['DATASET'],'12859_2016_1457_MOESM2_ESM.xlsx')\n",
    "xls_df = pandas.read_excel(xls_file, sheet_name=None, header=None);\n",
    "for k in xls_df:\n",
    "    if not k.startswith('int-'):\n",
    "        xls_df[k].columns = xls_df[k].iloc[0]\n",
    "        xls_df[k] = xls_df[k].reindex(xls_df[k].index.drop(0))"
   ]
  },
  {
   "cell_type": "code",
   "execution_count": 3,
   "metadata": {},
   "outputs": [
    {
     "data": {
      "text/html": [
       "<div>\n",
       "<style scoped>\n",
       "    .dataframe tbody tr th:only-of-type {\n",
       "        vertical-align: middle;\n",
       "    }\n",
       "\n",
       "    .dataframe tbody tr th {\n",
       "        vertical-align: top;\n",
       "    }\n",
       "\n",
       "    .dataframe thead th {\n",
       "        text-align: right;\n",
       "    }\n",
       "</style>\n",
       "<table border=\"1\" class=\"dataframe\">\n",
       "  <thead>\n",
       "    <tr style=\"text-align: right;\">\n",
       "      <th></th>\n",
       "      <th>Gene_Id</th>\n",
       "      <th>gene_name</th>\n",
       "    </tr>\n",
       "  </thead>\n",
       "  <tbody>\n",
       "    <tr>\n",
       "      <th>0</th>\n",
       "      <td>ENSG00000223972.4</td>\n",
       "      <td>DDX11L1</td>\n",
       "    </tr>\n",
       "    <tr>\n",
       "      <th>1</th>\n",
       "      <td>ENSG00000227232.4</td>\n",
       "      <td>WASH7P</td>\n",
       "    </tr>\n",
       "    <tr>\n",
       "      <th>2</th>\n",
       "      <td>ENSG00000243485.2</td>\n",
       "      <td>MIR1302-11</td>\n",
       "    </tr>\n",
       "    <tr>\n",
       "      <th>3</th>\n",
       "      <td>ENSG00000237613.2</td>\n",
       "      <td>FAM138A</td>\n",
       "    </tr>\n",
       "    <tr>\n",
       "      <th>4</th>\n",
       "      <td>ENSG00000268020.2</td>\n",
       "      <td>OR4G4P</td>\n",
       "    </tr>\n",
       "  </tbody>\n",
       "</table>\n",
       "</div>"
      ],
      "text/plain": [
       "             Gene_Id   gene_name\n",
       "0  ENSG00000223972.4     DDX11L1\n",
       "1  ENSG00000227232.4      WASH7P\n",
       "2  ENSG00000243485.2  MIR1302-11\n",
       "3  ENSG00000237613.2     FAM138A\n",
       "4  ENSG00000268020.2      OR4G4P"
      ]
     },
     "execution_count": 3,
     "metadata": {},
     "output_type": "execute_result"
    }
   ],
   "source": [
    "gene_gtf_file = \"/gfs/data/genomes/Gencode/Gencode_human/GRCh37/release_19/gencode.v19.annotation_genes.gtf\"\n",
    "gene_gtf = pandas.read_csv(gene_gtf_file, sep='\\t',header=None)\n",
    "gene_gtf = gene_gtf[[9,10]]\n",
    "gene_gtf = gene_gtf.rename(index=str, columns={9:'Gene_Id', 10:'gene_name'})\n",
    "gene_gtf.head()"
   ]
  },
  {
   "cell_type": "code",
   "execution_count": 4,
   "metadata": {},
   "outputs": [],
   "source": [
    "result_dir = os.path.join(os.environ['RESULTS'], os.environ['DATASET'], 'differential_expression')\n",
    "os.chdir(result_dir)"
   ]
  },
  {
   "cell_type": "code",
   "execution_count": 5,
   "metadata": {},
   "outputs": [
    {
     "data": {
      "text/html": [
       "<div>\n",
       "<style scoped>\n",
       "    .dataframe tbody tr th:only-of-type {\n",
       "        vertical-align: middle;\n",
       "    }\n",
       "\n",
       "    .dataframe tbody tr th {\n",
       "        vertical-align: top;\n",
       "    }\n",
       "\n",
       "    .dataframe thead th {\n",
       "        text-align: right;\n",
       "    }\n",
       "</style>\n",
       "<table border=\"1\" class=\"dataframe\">\n",
       "  <thead>\n",
       "    <tr style=\"text-align: right;\">\n",
       "      <th></th>\n",
       "      <th>Gene ID</th>\n",
       "      <th>Gene Name</th>\n",
       "      <th>Score(d)</th>\n",
       "      <th>Fold Change</th>\n",
       "      <th>q-value(%)</th>\n",
       "    </tr>\n",
       "  </thead>\n",
       "  <tbody>\n",
       "    <tr>\n",
       "      <th>0</th>\n",
       "      <td>g502</td>\n",
       "      <td>ENSG00000155366.12</td>\n",
       "      <td>144.5</td>\n",
       "      <td>1.627500e+01</td>\n",
       "      <td>0.0</td>\n",
       "    </tr>\n",
       "    <tr>\n",
       "      <th>1</th>\n",
       "      <td>g503</td>\n",
       "      <td>ENSG00000271810.1</td>\n",
       "      <td>144.5</td>\n",
       "      <td>2.702400e+01</td>\n",
       "      <td>0.0</td>\n",
       "    </tr>\n",
       "    <tr>\n",
       "      <th>2</th>\n",
       "      <td>g690</td>\n",
       "      <td>ENSG00000203747.5</td>\n",
       "      <td>144.5</td>\n",
       "      <td>1.453290e+02</td>\n",
       "      <td>0.0</td>\n",
       "    </tr>\n",
       "    <tr>\n",
       "      <th>3</th>\n",
       "      <td>g1571</td>\n",
       "      <td>ENSG00000018280.12</td>\n",
       "      <td>144.5</td>\n",
       "      <td>4.144000e+00</td>\n",
       "      <td>0.0</td>\n",
       "    </tr>\n",
       "    <tr>\n",
       "      <th>4</th>\n",
       "      <td>g1637</td>\n",
       "      <td>ENSG00000233392.1</td>\n",
       "      <td>144.5</td>\n",
       "      <td>6.004582e+10</td>\n",
       "      <td>0.0</td>\n",
       "    </tr>\n",
       "  </tbody>\n",
       "</table>\n",
       "</div>"
      ],
      "text/plain": [
       "  Gene ID           Gene Name  Score(d)   Fold Change  q-value(%)\n",
       "0    g502  ENSG00000155366.12     144.5  1.627500e+01         0.0\n",
       "1    g503   ENSG00000271810.1     144.5  2.702400e+01         0.0\n",
       "2    g690   ENSG00000203747.5     144.5  1.453290e+02         0.0\n",
       "3   g1571  ENSG00000018280.12     144.5  4.144000e+00         0.0\n",
       "4   g1637   ENSG00000233392.1     144.5  6.004582e+10         0.0"
      ]
     },
     "execution_count": 5,
     "metadata": {},
     "output_type": "execute_result"
    }
   ],
   "source": [
    "dga_results = pandas.read_csv('samseq.csv')\n",
    "dga_results.head()"
   ]
  },
  {
   "cell_type": "code",
   "execution_count": 8,
   "metadata": {},
   "outputs": [
    {
     "name": "stderr",
     "output_type": "stream",
     "text": [
      "/usr/lib/python3.6/site-packages/ipykernel_launcher.py:1: RuntimeWarning: divide by zero encountered in log2\n",
      "  \"\"\"Entry point for launching an IPython kernel.\n"
     ]
    },
    {
     "data": {
      "text/plain": [
       "0        4.024586\n",
       "1        4.756169\n",
       "2        7.183179\n",
       "3        2.051024\n",
       "4       35.805345\n",
       "5        2.143067\n",
       "6        2.471708\n",
       "7        3.548560\n",
       "8        6.154271\n",
       "9        4.199437\n",
       "10       3.382667\n",
       "11       2.998015\n",
       "12       2.507668\n",
       "13       3.113034\n",
       "14       1.449957\n",
       "15       3.736713\n",
       "16       2.646163\n",
       "17       5.042951\n",
       "18       4.267686\n",
       "19       4.599020\n",
       "20       4.385983\n",
       "21       5.817623\n",
       "22       4.162452\n",
       "23       3.176163\n",
       "24       3.193929\n",
       "25       2.536302\n",
       "26       4.454308\n",
       "27       3.925620\n",
       "28       2.683023\n",
       "29       2.416029\n",
       "          ...    \n",
       "4790    -0.524915\n",
       "4791    -2.000000\n",
       "4792    -1.365871\n",
       "4793    -0.849440\n",
       "4794    -2.547932\n",
       "4795    -0.652901\n",
       "4796    -1.586406\n",
       "4797    -0.388355\n",
       "4798    -2.089267\n",
       "4799    -1.675765\n",
       "4800    -1.329160\n",
       "4801    -0.937878\n",
       "4802    -1.307573\n",
       "4803    -1.666576\n",
       "4804    -1.395929\n",
       "4805    -0.619271\n",
       "4806    -1.354759\n",
       "4807    -1.064917\n",
       "4808    -0.891643\n",
       "4809    -1.032094\n",
       "4810    -0.524915\n",
       "4811    -2.888969\n",
       "4812    -0.729770\n",
       "4813    -1.595097\n",
       "4814    -1.227692\n",
       "4815    -2.336428\n",
       "4816    -0.630394\n",
       "4817    -0.531156\n",
       "4818    -0.469929\n",
       "4819    -1.994241\n",
       "Name: Fold Change, Length: 4820, dtype: float64"
      ]
     },
     "execution_count": 8,
     "metadata": {},
     "output_type": "execute_result"
    }
   ],
   "source": []
  },
  {
   "cell_type": "code",
   "execution_count": null,
   "metadata": {},
   "outputs": [],
   "source": []
  },
  {
   "cell_type": "code",
   "execution_count": 9,
   "metadata": {},
   "outputs": [
    {
     "name": "stdout",
     "output_type": "stream",
     "text": [
      "DGA results with Gene ID: 4778\n"
     ]
    },
    {
     "data": {
      "text/html": [
       "<div>\n",
       "<style scoped>\n",
       "    .dataframe tbody tr th:only-of-type {\n",
       "        vertical-align: middle;\n",
       "    }\n",
       "\n",
       "    .dataframe tbody tr th {\n",
       "        vertical-align: top;\n",
       "    }\n",
       "\n",
       "    .dataframe thead th {\n",
       "        text-align: right;\n",
       "    }\n",
       "</style>\n",
       "<table border=\"1\" class=\"dataframe\">\n",
       "  <thead>\n",
       "    <tr style=\"text-align: right;\">\n",
       "      <th></th>\n",
       "      <th>Reference</th>\n",
       "      <th>Genes in Ref</th>\n",
       "      <th>Genes</th>\n",
       "      <th>Common</th>\n",
       "      <th>Recall</th>\n",
       "      <th>Precision</th>\n",
       "    </tr>\n",
       "  </thead>\n",
       "  <tbody>\n",
       "    <tr>\n",
       "      <th>0</th>\n",
       "      <td>SAM-Frank</td>\n",
       "      <td>5796</td>\n",
       "      <td>4778</td>\n",
       "      <td>2086</td>\n",
       "      <td>0.363035</td>\n",
       "      <td>0.436584</td>\n",
       "    </tr>\n",
       "    <tr>\n",
       "      <th>1</th>\n",
       "      <td>SAM-Haniffa</td>\n",
       "      <td>1586</td>\n",
       "      <td>4778</td>\n",
       "      <td>704</td>\n",
       "      <td>0.458333</td>\n",
       "      <td>0.147342</td>\n",
       "    </tr>\n",
       "    <tr>\n",
       "      <th>2</th>\n",
       "      <td>SAM-Ingersoll</td>\n",
       "      <td>4795</td>\n",
       "      <td>4778</td>\n",
       "      <td>1786</td>\n",
       "      <td>0.376396</td>\n",
       "      <td>0.373797</td>\n",
       "    </tr>\n",
       "    <tr>\n",
       "      <th>3</th>\n",
       "      <td>SAM-Wong</td>\n",
       "      <td>2929</td>\n",
       "      <td>4778</td>\n",
       "      <td>1014</td>\n",
       "      <td>0.352206</td>\n",
       "      <td>0.212223</td>\n",
       "    </tr>\n",
       "    <tr>\n",
       "      <th>4</th>\n",
       "      <td>limma-Frank</td>\n",
       "      <td>3931</td>\n",
       "      <td>4778</td>\n",
       "      <td>1741</td>\n",
       "      <td>0.448596</td>\n",
       "      <td>0.364378</td>\n",
       "    </tr>\n",
       "    <tr>\n",
       "      <th>5</th>\n",
       "      <td>limma-Haniffa</td>\n",
       "      <td>1920</td>\n",
       "      <td>4778</td>\n",
       "      <td>931</td>\n",
       "      <td>0.497861</td>\n",
       "      <td>0.194851</td>\n",
       "    </tr>\n",
       "    <tr>\n",
       "      <th>6</th>\n",
       "      <td>limma-Ingersoll</td>\n",
       "      <td>4202</td>\n",
       "      <td>4778</td>\n",
       "      <td>1851</td>\n",
       "      <td>0.445809</td>\n",
       "      <td>0.387401</td>\n",
       "    </tr>\n",
       "    <tr>\n",
       "      <th>7</th>\n",
       "      <td>limma-Wong</td>\n",
       "      <td>3454</td>\n",
       "      <td>4778</td>\n",
       "      <td>1491</td>\n",
       "      <td>0.438014</td>\n",
       "      <td>0.312055</td>\n",
       "    </tr>\n",
       "    <tr>\n",
       "      <th>8</th>\n",
       "      <td>int-Frank</td>\n",
       "      <td>2803</td>\n",
       "      <td>4778</td>\n",
       "      <td>1144</td>\n",
       "      <td>0.415547</td>\n",
       "      <td>0.239431</td>\n",
       "    </tr>\n",
       "    <tr>\n",
       "      <th>9</th>\n",
       "      <td>int-Haniffa</td>\n",
       "      <td>1178</td>\n",
       "      <td>4778</td>\n",
       "      <td>585</td>\n",
       "      <td>0.518617</td>\n",
       "      <td>0.122436</td>\n",
       "    </tr>\n",
       "    <tr>\n",
       "      <th>10</th>\n",
       "      <td>int-Ingersoll</td>\n",
       "      <td>2776</td>\n",
       "      <td>4778</td>\n",
       "      <td>1140</td>\n",
       "      <td>0.418195</td>\n",
       "      <td>0.238594</td>\n",
       "    </tr>\n",
       "    <tr>\n",
       "      <th>11</th>\n",
       "      <td>int-Wong</td>\n",
       "      <td>1998</td>\n",
       "      <td>4778</td>\n",
       "      <td>907</td>\n",
       "      <td>0.465606</td>\n",
       "      <td>0.189828</td>\n",
       "    </tr>\n",
       "  </tbody>\n",
       "</table>\n",
       "</div>"
      ],
      "text/plain": [
       "          Reference  Genes in Ref  Genes  Common    Recall  Precision\n",
       "0         SAM-Frank          5796   4778    2086  0.363035   0.436584\n",
       "1       SAM-Haniffa          1586   4778     704  0.458333   0.147342\n",
       "2     SAM-Ingersoll          4795   4778    1786  0.376396   0.373797\n",
       "3          SAM-Wong          2929   4778    1014  0.352206   0.212223\n",
       "4       limma-Frank          3931   4778    1741  0.448596   0.364378\n",
       "5     limma-Haniffa          1920   4778     931  0.497861   0.194851\n",
       "6   limma-Ingersoll          4202   4778    1851  0.445809   0.387401\n",
       "7        limma-Wong          3454   4778    1491  0.438014   0.312055\n",
       "8         int-Frank          2803   4778    1144  0.415547   0.239431\n",
       "9       int-Haniffa          1178   4778     585  0.518617   0.122436\n",
       "10    int-Ingersoll          2776   4778    1140  0.418195   0.238594\n",
       "11         int-Wong          1998   4778     907  0.465606   0.189828"
      ]
     },
     "metadata": {},
     "output_type": "display_data"
    },
    {
     "name": "stdout",
     "output_type": "stream",
     "text": [
      "No. Genes: 1281.6666666666667 Recall: 0.4331845801248742 Precision: 0.26824333751918517\n"
     ]
    }
   ],
   "source": [
    "dga_results = pandas.read_csv('samseq.csv')\n",
    "dga_results = dga_results[dga_results['Fold Change'] > 0]\n",
    "dga_results = dga_results.merge(gene_gtf, left_on='Gene Name', right_on='Gene_Id', how='inner')\n",
    "dga_results = dga_results.sort_values(by='gene_name')\n",
    "print('DGA results with Gene ID: ' + str(len(dga_results)))\n",
    "a = []\n",
    "for k in xls_df:\n",
    "    if k.startswith('int-'):\n",
    "        c = len(xls_df[k].merge(dga_results, left_on=0, right_on='gene_name', how='inner'))   \n",
    "    else:\n",
    "        c = len(xls_df[k].merge(dga_results, left_on='Gene Name', right_on='gene_name', how='inner'))\n",
    "    r = c/(len(xls_df[k]) - 50)\n",
    "    p = c/len(dga_results)\n",
    "    a.append([k,len(xls_df[k]), len(dga_results), c, r, p])\n",
    "df = pandas.DataFrame(a, columns=['Reference', 'Genes in Ref', 'Genes', 'Common',  'Recall', 'Precision'])\n",
    "average = df.mean(axis=0)\n",
    "display(df)\n",
    "df.to_csv('samseq_corr.csv', sep='\\t',index=None)\n",
    "print(\"No. Genes: \" + str(average['Common']) + \" Recall: \" + str(average['Recall']) + ' Precision: ' + str(average['Precision']))\n"
   ]
  },
  {
   "cell_type": "code",
   "execution_count": 10,
   "metadata": {},
   "outputs": [
    {
     "data": {
      "text/plain": [
       "<matplotlib.axes._subplots.AxesSubplot at 0x7f29e64c92b0>"
      ]
     },
     "execution_count": 10,
     "metadata": {},
     "output_type": "execute_result"
    },
    {
     "data": {
      "image/png": "[encoded data removed]",
      "text/plain": [
       "<Figure size 432x288 with 1 Axes>"
      ]
     },
     "metadata": {},
     "output_type": "display_data"
    }
   ],
   "source": [
    "df[['Reference', 'Recall', 'Precision']].plot.box()"
   ]
  },
  {
   "cell_type": "code",
   "execution_count": 11,
   "metadata": {},
   "outputs": [
    {
     "data": {
      "image/png": "[encoded data removed]",
      "text/plain": [
       "<Figure size 432x288 with 1 Axes>"
      ]
     },
     "metadata": {},
     "output_type": "display_data"
    }
   ],
   "source": [
    "df[['Reference', 'Recall', 'Precision']].plot.bar();"
   ]
  },
  {
   "cell_type": "code",
   "execution_count": 12,
   "metadata": {},
   "outputs": [
    {
     "name": "stdout",
     "output_type": "stream",
     "text": [
      "DGA results with Gene ID: 4398\n"
     ]
    },
    {
     "data": {
      "text/html": [
       "<div>\n",
       "<style scoped>\n",
       "    .dataframe tbody tr th:only-of-type {\n",
       "        vertical-align: middle;\n",
       "    }\n",
       "\n",
       "    .dataframe tbody tr th {\n",
       "        vertical-align: top;\n",
       "    }\n",
       "\n",
       "    .dataframe thead th {\n",
       "        text-align: right;\n",
       "    }\n",
       "</style>\n",
       "<table border=\"1\" class=\"dataframe\">\n",
       "  <thead>\n",
       "    <tr style=\"text-align: right;\">\n",
       "      <th></th>\n",
       "      <th>Reference</th>\n",
       "      <th>Genes in Ref</th>\n",
       "      <th>Genes</th>\n",
       "      <th>Common</th>\n",
       "      <th>Recall</th>\n",
       "      <th>Precision</th>\n",
       "    </tr>\n",
       "  </thead>\n",
       "  <tbody>\n",
       "    <tr>\n",
       "      <th>0</th>\n",
       "      <td>SAM-Frank</td>\n",
       "      <td>5796</td>\n",
       "      <td>4398</td>\n",
       "      <td>1802</td>\n",
       "      <td>0.313609</td>\n",
       "      <td>0.409732</td>\n",
       "    </tr>\n",
       "    <tr>\n",
       "      <th>1</th>\n",
       "      <td>SAM-Haniffa</td>\n",
       "      <td>1586</td>\n",
       "      <td>4398</td>\n",
       "      <td>643</td>\n",
       "      <td>0.418620</td>\n",
       "      <td>0.146203</td>\n",
       "    </tr>\n",
       "    <tr>\n",
       "      <th>2</th>\n",
       "      <td>SAM-Ingersoll</td>\n",
       "      <td>4795</td>\n",
       "      <td>4398</td>\n",
       "      <td>1536</td>\n",
       "      <td>0.323709</td>\n",
       "      <td>0.349250</td>\n",
       "    </tr>\n",
       "    <tr>\n",
       "      <th>3</th>\n",
       "      <td>SAM-Wong</td>\n",
       "      <td>2929</td>\n",
       "      <td>4398</td>\n",
       "      <td>897</td>\n",
       "      <td>0.311567</td>\n",
       "      <td>0.203956</td>\n",
       "    </tr>\n",
       "    <tr>\n",
       "      <th>4</th>\n",
       "      <td>limma-Frank</td>\n",
       "      <td>3931</td>\n",
       "      <td>4398</td>\n",
       "      <td>1501</td>\n",
       "      <td>0.386756</td>\n",
       "      <td>0.341291</td>\n",
       "    </tr>\n",
       "    <tr>\n",
       "      <th>5</th>\n",
       "      <td>limma-Haniffa</td>\n",
       "      <td>1920</td>\n",
       "      <td>4398</td>\n",
       "      <td>851</td>\n",
       "      <td>0.455080</td>\n",
       "      <td>0.193497</td>\n",
       "    </tr>\n",
       "    <tr>\n",
       "      <th>6</th>\n",
       "      <td>limma-Ingersoll</td>\n",
       "      <td>4202</td>\n",
       "      <td>4398</td>\n",
       "      <td>1590</td>\n",
       "      <td>0.382948</td>\n",
       "      <td>0.361528</td>\n",
       "    </tr>\n",
       "    <tr>\n",
       "      <th>7</th>\n",
       "      <td>limma-Wong</td>\n",
       "      <td>3454</td>\n",
       "      <td>4398</td>\n",
       "      <td>1322</td>\n",
       "      <td>0.388367</td>\n",
       "      <td>0.300591</td>\n",
       "    </tr>\n",
       "    <tr>\n",
       "      <th>8</th>\n",
       "      <td>int-Frank</td>\n",
       "      <td>2803</td>\n",
       "      <td>4398</td>\n",
       "      <td>998</td>\n",
       "      <td>0.362514</td>\n",
       "      <td>0.226921</td>\n",
       "    </tr>\n",
       "    <tr>\n",
       "      <th>9</th>\n",
       "      <td>int-Haniffa</td>\n",
       "      <td>1178</td>\n",
       "      <td>4398</td>\n",
       "      <td>523</td>\n",
       "      <td>0.463652</td>\n",
       "      <td>0.118918</td>\n",
       "    </tr>\n",
       "    <tr>\n",
       "      <th>10</th>\n",
       "      <td>int-Ingersoll</td>\n",
       "      <td>2776</td>\n",
       "      <td>4398</td>\n",
       "      <td>993</td>\n",
       "      <td>0.364270</td>\n",
       "      <td>0.225784</td>\n",
       "    </tr>\n",
       "    <tr>\n",
       "      <th>11</th>\n",
       "      <td>int-Wong</td>\n",
       "      <td>1998</td>\n",
       "      <td>4398</td>\n",
       "      <td>803</td>\n",
       "      <td>0.412218</td>\n",
       "      <td>0.182583</td>\n",
       "    </tr>\n",
       "  </tbody>\n",
       "</table>\n",
       "</div>"
      ],
      "text/plain": [
       "          Reference  Genes in Ref  Genes  Common    Recall  Precision\n",
       "0         SAM-Frank          5796   4398    1802  0.313609   0.409732\n",
       "1       SAM-Haniffa          1586   4398     643  0.418620   0.146203\n",
       "2     SAM-Ingersoll          4795   4398    1536  0.323709   0.349250\n",
       "3          SAM-Wong          2929   4398     897  0.311567   0.203956\n",
       "4       limma-Frank          3931   4398    1501  0.386756   0.341291\n",
       "5     limma-Haniffa          1920   4398     851  0.455080   0.193497\n",
       "6   limma-Ingersoll          4202   4398    1590  0.382948   0.361528\n",
       "7        limma-Wong          3454   4398    1322  0.388367   0.300591\n",
       "8         int-Frank          2803   4398     998  0.362514   0.226921\n",
       "9       int-Haniffa          1178   4398     523  0.463652   0.118918\n",
       "10    int-Ingersoll          2776   4398     993  0.364270   0.225784\n",
       "11         int-Wong          1998   4398     803  0.412218   0.182583"
      ]
     },
     "metadata": {},
     "output_type": "display_data"
    },
    {
     "name": "stdout",
     "output_type": "stream",
     "text": [
      "No. Genes: 1121.5833333333333 Recall: 0.38194245894967577 Precision: 0.2550212217674701\n"
     ]
    }
   ],
   "source": [
    "dga_results = pandas.read_csv('samseq_tpm.csv')\n",
    "dga_results = dga_results.merge(gene_gtf, left_on='Gene Name', right_on='Gene_Id', how='inner')\n",
    "dga_results = dga_results.sort_values(by='gene_name')\n",
    "print('DGA results with Gene ID: ' + str(len(dga_results)))\n",
    "a = []\n",
    "for k in xls_df:\n",
    "    if k.startswith('int-'):\n",
    "        c = len(xls_df[k].merge(dga_results, left_on=0, right_on='gene_name', how='inner'))   \n",
    "    else:\n",
    "        c = len(xls_df[k].merge(dga_results, left_on='Gene Name', right_on='gene_name', how='inner'))\n",
    "    r = c/(len(xls_df[k]) - 50)\n",
    "    p = c/len(dga_results)\n",
    "    a.append([k,len(xls_df[k]), len(dga_results), c, r, p])\n",
    "df = pandas.DataFrame(a, columns=['Reference', 'Genes in Ref', 'Genes', 'Common',  'Recall', 'Precision'])\n",
    "average = df.mean(axis=0)\n",
    "display(df)\n",
    "df.to_csv('samseq_tpm_corr.csv', sep='\\t',index=None)\n",
    "print(\"No. Genes: \" + str(average['Common']) + \" Recall: \" + str(average['Recall']) + ' Precision: ' + str(average['Precision']))\n"
   ]
  },
  {
   "cell_type": "code",
   "execution_count": 13,
   "metadata": {},
   "outputs": [
    {
     "data": {
      "text/plain": [
       "<matplotlib.axes._subplots.AxesSubplot at 0x7f29e4aa8eb8>"
      ]
     },
     "execution_count": 13,
     "metadata": {},
     "output_type": "execute_result"
    },
    {
     "data": {
      "image/png": "[encoded data removed]",
      "text/plain": [
       "<Figure size 432x288 with 1 Axes>"
      ]
     },
     "metadata": {},
     "output_type": "display_data"
    }
   ],
   "source": [
    "df[['Reference', 'Recall', 'Precision']].plot.box()"
   ]
  },
  {
   "cell_type": "code",
   "execution_count": 14,
   "metadata": {},
   "outputs": [
    {
     "data": {
      "image/png": "[encoded data removed]",
      "text/plain": [
       "<Figure size 432x288 with 1 Axes>"
      ]
     },
     "metadata": {},
     "output_type": "display_data"
    }
   ],
   "source": [
    "df[['Reference', 'Recall', 'Precision']].plot.bar().set_xticklabels(df['Reference'], rotation=60);"
   ]
  },
  {
   "cell_type": "code",
   "execution_count": null,
   "metadata": {},
   "outputs": [],
   "source": []
  }
 ],
 "metadata": {
  "kernelspec": {
   "display_name": "Python 3",
   "language": "python",
   "name": "python3"
  },
  "language_info": {
   "codemirror_mode": {
    "name": "ipython",
    "version": 3
   },
   "file_extension": ".py",
   "mimetype": "text/x-python",
   "name": "python",
   "nbconvert_exporter": "python",
   "pygments_lexer": "ipython3",
   "version": "3.6.5"
  }
 },
 "nbformat": 4,
 "nbformat_minor": 2
}
